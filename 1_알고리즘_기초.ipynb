{
 "cells": [
  {
   "cell_type": "markdown",
   "id": "e9b58494",
   "metadata": {},
   "source": [
    "1-1 알고리즘이란?"
   ]
  },
  {
   "cell_type": "code",
   "execution_count": 1,
   "id": "ff8db5f8",
   "metadata": {},
   "outputs": [
    {
     "name": "stdout",
     "output_type": "stream",
     "text": [
      "세 정수의 최댓값을 구합니다.\n",
      "정수 a의 값을 입력하세요.: 1\n",
      "정수 b의 값을 입력하세요.: 2\n",
      "정수 c의 값을 입력하세요.: 3\n",
      "최댓값은 3입니다.\n"
     ]
    }
   ],
   "source": [
    "# [Do it! 실습 1-1] 세 정수를 입력받아 최댓값 구하기\n",
    "\n",
    "print('세 정수의 최댓값을 구합니다.')\n",
    "a = int(input('정수 a의 값을 입력하세요.: '))\n",
    "b = int(input('정수 b의 값을 입력하세요.: '))\n",
    "c = int(input('정수 c의 값을 입력하세요.: '))\n",
    "\n",
    "maximum = a\n",
    "if b > maximum: maximum = b\n",
    "if c > maximum: maximum = c\n",
    "\n",
    "print(f'최댓값은 {maximum}입니다.')"
   ]
  },
  {
   "cell_type": "markdown",
   "id": "ad792913",
   "metadata": {},
   "source": [
    "순차구조, 조건식, 선택구조"
   ]
  },
  {
   "cell_type": "code",
   "execution_count": 2,
   "id": "01cb61bb",
   "metadata": {},
   "outputs": [
    {
     "name": "stdout",
     "output_type": "stream",
     "text": [
      "이름을 입력하세요.: jeongho\n",
      "안녕하세요? jeongho 님.\n"
     ]
    }
   ],
   "source": [
    "print('이름을 입력하세요.: ', end='')\n",
    "name = input()\n",
    "print(f'안녕하세요? {name} 님.')"
   ]
  },
  {
   "cell_type": "markdown",
   "id": "bda25f84",
   "metadata": {},
   "source": [
    "input() 함수는 문자열을 입력받는다."
   ]
  },
  {
   "cell_type": "code",
   "execution_count": 3,
   "id": "193ad95a",
   "metadata": {},
   "outputs": [
    {
     "name": "stdout",
     "output_type": "stream",
     "text": [
      "이름을 입력하세요.: jeongho\n",
      "안녕하세요? jeongho 님.\n"
     ]
    }
   ],
   "source": [
    "name = input('이름을 입력하세요.: ')\n",
    "print(f'안녕하세요? {name} 님.')"
   ]
  },
  {
   "cell_type": "markdown",
   "id": "81cd87df",
   "metadata": {},
   "source": [
    "int(input()) 형변환"
   ]
  },
  {
   "cell_type": "markdown",
   "id": "b58b0925",
   "metadata": {},
   "source": [
    "float() 실수형 반환"
   ]
  },
  {
   "cell_type": "code",
   "execution_count": 4,
   "id": "3ad53fe3",
   "metadata": {},
   "outputs": [
    {
     "name": "stdout",
     "output_type": "stream",
     "text": [
      "17\n",
      "6\n",
      "61\n",
      "13\n",
      "63\n",
      "3.14\n"
     ]
    }
   ],
   "source": [
    "print(int('17'))\n",
    "print(int('0b110', 2))\n",
    "print(int('0o75', 8))\n",
    "print(int('13', 10))\n",
    "print(int('0x3F', 16))\n",
    "print(float('3.14'))"
   ]
  },
  {
   "cell_type": "code",
   "execution_count": 5,
   "id": "fa444696",
   "metadata": {},
   "outputs": [
    {
     "ename": "ValueError",
     "evalue": "invalid literal for int() with base 10: '0x3F'",
     "output_type": "error",
     "traceback": [
      "\u001b[0;31m---------------------------------------------------------------------------\u001b[0m",
      "\u001b[0;31mValueError\u001b[0m                                Traceback (most recent call last)",
      "\u001b[0;32m<ipython-input-5-7b717c4fe8ae>\u001b[0m in \u001b[0;36m<module>\u001b[0;34m\u001b[0m\n\u001b[0;32m----> 1\u001b[0;31m \u001b[0mprint\u001b[0m\u001b[0;34m(\u001b[0m\u001b[0mint\u001b[0m\u001b[0;34m(\u001b[0m\u001b[0;34m'0x3F'\u001b[0m\u001b[0;34m)\u001b[0m\u001b[0;34m)\u001b[0m\u001b[0;34m\u001b[0m\u001b[0;34m\u001b[0m\u001b[0m\n\u001b[0m",
      "\u001b[0;31mValueError\u001b[0m: invalid literal for int() with base 10: '0x3F'"
     ]
    }
   ],
   "source": [
    "print(int('0x3F'))"
   ]
  },
  {
   "cell_type": "markdown",
   "id": "8dfa4a1f",
   "metadata": {},
   "source": [
    "기본은 10진법형식으로 표기된다 다른 진법으로 표현한경우 따로 표기할것"
   ]
  },
  {
   "cell_type": "markdown",
   "id": "64bf20a0",
   "metadata": {},
   "source": [
    "-21.05.07-"
   ]
  },
  {
   "cell_type": "markdown",
   "id": "2cdde0d3",
   "metadata": {},
   "source": [
    "float형식은 실수를 근삿값으로 표현할때 사용한다. (실수를 가수부분과 지수부분으로 나누어)  \n",
    "단점: 근삿값으로 표현된다는 점, 고정소수점 방식보다 연산속도가 느리다.  \n",
    "해결방안으로 별도의 연산 장치를 두는경우가 많다."
   ]
  },
  {
   "cell_type": "markdown",
   "id": "fed50f1d",
   "metadata": {},
   "source": [
    "복합문 사용시 공백 4개를 들여쓰기로 사용할 것을 권장"
   ]
  },
  {
   "cell_type": "code",
   "execution_count": 6,
   "id": "1fcd0c4a",
   "metadata": {},
   "outputs": [],
   "source": [
    "if a < b:\n",
    "    min1 = a\n",
    "    max1 = b"
   ]
  },
  {
   "cell_type": "code",
   "execution_count": 7,
   "id": "bcf1503d",
   "metadata": {},
   "outputs": [],
   "source": [
    "if a < b: min1 = a; max1 =b;"
   ]
  },
  {
   "cell_type": "code",
   "execution_count": 8,
   "id": "36a5bedd",
   "metadata": {},
   "outputs": [
    {
     "name": "stdout",
     "output_type": "stream",
     "text": [
      "a: 1\n",
      "b: 5\n",
      "c: 10\n",
      "중앙값은 5\n"
     ]
    }
   ],
   "source": [
    "#세 숫자의 중앙값구하기\n",
    "\n",
    "def med3(a,b,c):\n",
    "    \n",
    "    if a >= b:\n",
    "        if b >= c:\n",
    "            return b\n",
    "        elif a <= c:\n",
    "            return a\n",
    "        else:\n",
    "            return c\n",
    "    elif a > c:\n",
    "        return a\n",
    "    elif b > c:\n",
    "        return c\n",
    "    else:\n",
    "        return b\n",
    "    \n",
    "a = int(input('a: '))\n",
    "b = int(input('b: '))\n",
    "c = int(input('c: '))\n",
    "\n",
    "print(f'중앙값은 {med3(a,b,c)}')"
   ]
  },
  {
   "cell_type": "markdown",
   "id": "cb780643",
   "metadata": {},
   "source": [
    "조건문과 분기"
   ]
  },
  {
   "cell_type": "code",
   "execution_count": 11,
   "id": "ea2288de",
   "metadata": {},
   "outputs": [
    {
     "name": "stdout",
     "output_type": "stream",
     "text": [
      "정수를 입력하세요: 10\n",
      "양수입니다\n"
     ]
    }
   ],
   "source": [
    "#정수값의 부호를 판단하여 출력\n",
    "\n",
    "n = int(input('정수를 입력하세요: '))\n",
    "\n",
    "if n > 0:\n",
    "    print('양수입니다')\n",
    "elif n < 0:\n",
    "    print('음수입니다')\n",
    "else:\n",
    "    print('0 입니다')"
   ]
  },
  {
   "cell_type": "markdown",
   "id": "d0fe9acd",
   "metadata": {},
   "source": [
    "연산자와 피연산자\n",
    "\n",
    "산술연산자(operator), 피연산자(operand)"
   ]
  },
  {
   "cell_type": "code",
   "execution_count": 17,
   "id": "f767247d",
   "metadata": {},
   "outputs": [
    {
     "name": "stdout",
     "output_type": "stream",
     "text": [
      "1부터 n까지의 합을 구합니다\n",
      "n: 10\n",
      "1부터 n까지의 합: 55\n"
     ]
    }
   ],
   "source": [
    "#for문 반복 알아보기\n",
    "\n",
    "print('1부터 n까지의 합을 구합니다')\n",
    "n = int(input('n: '))\n",
    "\n",
    "sum = 0\n",
    "for i in range(1, n+1):\n",
    "    sum += i\n",
    "    \n",
    "print(f'1부터 n까지의 합: {sum}')"
   ]
  },
  {
   "cell_type": "code",
   "execution_count": 18,
   "id": "283e169b",
   "metadata": {},
   "outputs": [
    {
     "name": "stdout",
     "output_type": "stream",
     "text": [
      "1부터 n까지의 합을 구합니다\n",
      "n: 10\n",
      "1부터 n까지의 합: 55\n"
     ]
    }
   ],
   "source": [
    "print('1부터 n까지의 합을 구합니다')\n",
    "n = int(input('n: '))\n",
    "\n",
    "sum = n*(n+1)//2\n",
    "    \n",
    "print(f'1부터 n까지의 합: {sum}')"
   ]
  },
  {
   "cell_type": "code",
   "execution_count": 20,
   "id": "a02031d7",
   "metadata": {},
   "outputs": [
    {
     "name": "stdout",
     "output_type": "stream",
     "text": [
      "a부터 b까지 정수의 합을 구합니다.\n",
      "a: 10\n",
      "b: 1\n",
      "합: 55\n"
     ]
    }
   ],
   "source": [
    "#range 함수로 이터러블 객체 생성하기\n",
    "#####이터레이터 이터러블 개념숙지하기\n",
    "#a부터 b까지 정수의 합구하기\n",
    "\n",
    "print('a부터 b까지 정수의 합을 구합니다.')\n",
    "a = int(input('a: '))\n",
    "b = int(input('b: '))\n",
    "\n",
    "if a > b:\n",
    "    a, b = b, a # 보통 스왑과정에서 temp 변수를 사용해서 변환하지만 파이썬에서는 바로 가능하다.\n",
    "\n",
    "sum = 0\n",
    "for i in range(a, b+1):\n",
    "    sum += i\n",
    "    \n",
    "print(f'합: {sum}')"
   ]
  },
  {
   "cell_type": "markdown",
   "id": "97a80ce8",
   "metadata": {},
   "source": [
    "참고자료: https://blog.seulgi.kim/2017/01/python-swap.html, https://bigdaheta.tistory.com/4"
   ]
  },
  {
   "cell_type": "code",
   "execution_count": 24,
   "id": "d7628c53",
   "metadata": {},
   "outputs": [
    {
     "name": "stdout",
     "output_type": "stream",
     "text": [
      "a부터 b까지 정수의 합을 구합니다.\n",
      "a: 1\n",
      "b: 10\n",
      "1 + 2 + 3 + 4 + 5 + 6 + 7 + 8 + 9 + 10 = 55\n"
     ]
    }
   ],
   "source": [
    "# a부터 b까지 정수의 합을 과정까지 나타내여 표현하기\n",
    "\n",
    "print('a부터 b까지 정수의 합을 구합니다.')\n",
    "a = int(input('a: '))\n",
    "b = int(input('b: '))\n",
    "\n",
    "if a > b:\n",
    "    a, b = b, a\n",
    "    \n",
    "sum = 0\n",
    "for i in range(a, b+1):\n",
    "    if i < b:\n",
    "        print(f'{i} + ', end='')\n",
    "    else:\n",
    "        print(f'{i} = ', end='')\n",
    "    sum += i\n",
    "    \n",
    "print(sum)"
   ]
  },
  {
   "cell_type": "code",
   "execution_count": null,
   "id": "cd82597d",
   "metadata": {},
   "outputs": [],
   "source": []
  }
 ],
 "metadata": {
  "kernelspec": {
   "display_name": "algorithm",
   "language": "python",
   "name": "algorithm"
  },
  "language_info": {
   "codemirror_mode": {
    "name": "ipython",
    "version": 3
   },
   "file_extension": ".py",
   "mimetype": "text/x-python",
   "name": "python",
   "nbconvert_exporter": "python",
   "pygments_lexer": "ipython3",
   "version": "3.6.13"
  }
 },
 "nbformat": 4,
 "nbformat_minor": 5
}
