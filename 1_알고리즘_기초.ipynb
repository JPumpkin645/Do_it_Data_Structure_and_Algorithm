{
 "cells": [
  {
   "cell_type": "markdown",
   "id": "e9b58494",
   "metadata": {},
   "source": [
    "1-1 알고리즘이란?"
   ]
  },
  {
   "cell_type": "code",
   "execution_count": 1,
   "id": "ff8db5f8",
   "metadata": {},
   "outputs": [
    {
     "name": "stdout",
     "output_type": "stream",
     "text": [
      "세 정수의 최댓값을 구합니다.\n",
      "정수 a의 값을 입력하세요.: 1\n",
      "정수 b의 값을 입력하세요.: 2\n",
      "정수 c의 값을 입력하세요.: 3\n",
      "최댓값은 3입니다.\n"
     ]
    }
   ],
   "source": [
    "# [Do it! 실습 1-1] 세 정수를 입력받아 최댓값 구하기\n",
    "\n",
    "print('세 정수의 최댓값을 구합니다.')\n",
    "a = int(input('정수 a의 값을 입력하세요.: '))\n",
    "b = int(input('정수 b의 값을 입력하세요.: '))\n",
    "c = int(input('정수 c의 값을 입력하세요.: '))\n",
    "\n",
    "maximum = a\n",
    "if b > maximum: maximum = b\n",
    "if c > maximum: maximum = c\n",
    "\n",
    "print(f'최댓값은 {maximum}입니다.')"
   ]
  },
  {
   "cell_type": "markdown",
   "id": "ad792913",
   "metadata": {},
   "source": [
    "순차구조, 조건식, 선택구조"
   ]
  },
  {
   "cell_type": "code",
   "execution_count": 2,
   "id": "01cb61bb",
   "metadata": {},
   "outputs": [
    {
     "name": "stdout",
     "output_type": "stream",
     "text": [
      "이름을 입력하세요.: jeongho\n",
      "안녕하세요? jeongho 님.\n"
     ]
    }
   ],
   "source": [
    "print('이름을 입력하세요.: ', end='')\n",
    "name = input()\n",
    "print(f'안녕하세요? {name} 님.')"
   ]
  },
  {
   "cell_type": "markdown",
   "id": "bda25f84",
   "metadata": {},
   "source": [
    "input() 함수는 문자열을 입력받는다."
   ]
  },
  {
   "cell_type": "code",
   "execution_count": 3,
   "id": "193ad95a",
   "metadata": {},
   "outputs": [
    {
     "name": "stdout",
     "output_type": "stream",
     "text": [
      "이름을 입력하세요.: jeongho\n",
      "안녕하세요? jeongho 님.\n"
     ]
    }
   ],
   "source": [
    "name = input('이름을 입력하세요.: ')\n",
    "print(f'안녕하세요? {name} 님.')"
   ]
  },
  {
   "cell_type": "markdown",
   "id": "81cd87df",
   "metadata": {},
   "source": [
    "int(input()) 형변환"
   ]
  },
  {
   "cell_type": "markdown",
   "id": "b58b0925",
   "metadata": {},
   "source": [
    "float() 실수형 반환"
   ]
  },
  {
   "cell_type": "code",
   "execution_count": 4,
   "id": "3ad53fe3",
   "metadata": {},
   "outputs": [
    {
     "name": "stdout",
     "output_type": "stream",
     "text": [
      "17\n",
      "6\n",
      "61\n",
      "13\n",
      "63\n",
      "3.14\n"
     ]
    }
   ],
   "source": [
    "print(int('17'))\n",
    "print(int('0b110', 2))\n",
    "print(int('0o75', 8))\n",
    "print(int('13', 10))\n",
    "print(int('0x3F', 16))\n",
    "print(float('3.14'))"
   ]
  },
  {
   "cell_type": "code",
   "execution_count": 5,
   "id": "fa444696",
   "metadata": {},
   "outputs": [
    {
     "ename": "ValueError",
     "evalue": "invalid literal for int() with base 10: '0x3F'",
     "output_type": "error",
     "traceback": [
      "\u001b[0;31m---------------------------------------------------------------------------\u001b[0m",
      "\u001b[0;31mValueError\u001b[0m                                Traceback (most recent call last)",
      "\u001b[0;32m<ipython-input-5-7b717c4fe8ae>\u001b[0m in \u001b[0;36m<module>\u001b[0;34m\u001b[0m\n\u001b[0;32m----> 1\u001b[0;31m \u001b[0mprint\u001b[0m\u001b[0;34m(\u001b[0m\u001b[0mint\u001b[0m\u001b[0;34m(\u001b[0m\u001b[0;34m'0x3F'\u001b[0m\u001b[0;34m)\u001b[0m\u001b[0;34m)\u001b[0m\u001b[0;34m\u001b[0m\u001b[0;34m\u001b[0m\u001b[0m\n\u001b[0m",
      "\u001b[0;31mValueError\u001b[0m: invalid literal for int() with base 10: '0x3F'"
     ]
    }
   ],
   "source": [
    "print(int('0x3F'))"
   ]
  },
  {
   "cell_type": "markdown",
   "id": "8dfa4a1f",
   "metadata": {},
   "source": [
    "기본은 10진법형식으로 표기된다 다른 진법으로 표현한경우 따로 표기할것"
   ]
  },
  {
   "cell_type": "markdown",
   "id": "64bf20a0",
   "metadata": {},
   "source": [
    "-21.05.07-"
   ]
  },
  {
   "cell_type": "markdown",
   "id": "2cdde0d3",
   "metadata": {},
   "source": [
    "float형식은 실수를 근삿값으로 표현할때 사용한다. (실수를 가수부분과 지수부분으로 나누어)  \n",
    "단점: 근삿값으로 표현된다는 점, 고정소수점 방식보다 연산속도가 느리다.  \n",
    "해결방안으로 별도의 연산 장치를 두는경우가 많다."
   ]
  },
  {
   "cell_type": "markdown",
   "id": "fed50f1d",
   "metadata": {},
   "source": [
    "복합문 사용시 공백 4개를 들여쓰기로 사용할 것을 권장"
   ]
  },
  {
   "cell_type": "code",
   "execution_count": 6,
   "id": "1fcd0c4a",
   "metadata": {},
   "outputs": [],
   "source": [
    "if a < b:\n",
    "    min1 = a\n",
    "    max1 = b"
   ]
  },
  {
   "cell_type": "code",
   "execution_count": 7,
   "id": "bcf1503d",
   "metadata": {},
   "outputs": [],
   "source": [
    "if a < b: min1 = a; max1 =b;"
   ]
  },
  {
   "cell_type": "code",
   "execution_count": 8,
   "id": "36a5bedd",
   "metadata": {},
   "outputs": [
    {
     "name": "stdout",
     "output_type": "stream",
     "text": [
      "a: 1\n",
      "b: 5\n",
      "c: 10\n",
      "중앙값은 5\n"
     ]
    }
   ],
   "source": [
    "#세 숫자의 중앙값구하기\n",
    "\n",
    "def med3(a,b,c):\n",
    "    \n",
    "    if a >= b:\n",
    "        if b >= c:\n",
    "            return b\n",
    "        elif a <= c:\n",
    "            return a\n",
    "        else:\n",
    "            return c\n",
    "    elif a > c:\n",
    "        return a\n",
    "    elif b > c:\n",
    "        return c\n",
    "    else:\n",
    "        return b\n",
    "    \n",
    "a = int(input('a: '))\n",
    "b = int(input('b: '))\n",
    "c = int(input('c: '))\n",
    "\n",
    "print(f'중앙값은 {med3(a,b,c)}')"
   ]
  },
  {
   "cell_type": "markdown",
   "id": "cb780643",
   "metadata": {},
   "source": [
    "조건문과 분기"
   ]
  },
  {
   "cell_type": "code",
   "execution_count": 11,
   "id": "ea2288de",
   "metadata": {},
   "outputs": [
    {
     "name": "stdout",
     "output_type": "stream",
     "text": [
      "정수를 입력하세요: 10\n",
      "양수입니다\n"
     ]
    }
   ],
   "source": [
    "#정수값의 부호를 판단하여 출력\n",
    "\n",
    "n = int(input('정수를 입력하세요: '))\n",
    "\n",
    "if n > 0:\n",
    "    print('양수입니다')\n",
    "elif n < 0:\n",
    "    print('음수입니다')\n",
    "else:\n",
    "    print('0 입니다')"
   ]
  },
  {
   "cell_type": "markdown",
   "id": "d0fe9acd",
   "metadata": {},
   "source": [
    "연산자와 피연산자\n",
    "\n",
    "산술연산자(operator), 피연산자(operand)"
   ]
  },
  {
   "cell_type": "code",
   "execution_count": 17,
   "id": "f767247d",
   "metadata": {},
   "outputs": [
    {
     "name": "stdout",
     "output_type": "stream",
     "text": [
      "1부터 n까지의 합을 구합니다\n",
      "n: 10\n",
      "1부터 n까지의 합: 55\n"
     ]
    }
   ],
   "source": [
    "#for문 반복 알아보기\n",
    "\n",
    "print('1부터 n까지의 합을 구합니다')\n",
    "n = int(input('n: '))\n",
    "\n",
    "sum = 0\n",
    "for i in range(1, n+1):\n",
    "    sum += i\n",
    "    \n",
    "print(f'1부터 n까지의 합: {sum}')"
   ]
  },
  {
   "cell_type": "code",
   "execution_count": 18,
   "id": "283e169b",
   "metadata": {},
   "outputs": [
    {
     "name": "stdout",
     "output_type": "stream",
     "text": [
      "1부터 n까지의 합을 구합니다\n",
      "n: 10\n",
      "1부터 n까지의 합: 55\n"
     ]
    }
   ],
   "source": [
    "print('1부터 n까지의 합을 구합니다')\n",
    "n = int(input('n: '))\n",
    "\n",
    "sum = n*(n+1)//2\n",
    "    \n",
    "print(f'1부터 n까지의 합: {sum}')"
   ]
  },
  {
   "cell_type": "code",
   "execution_count": 20,
   "id": "a02031d7",
   "metadata": {},
   "outputs": [
    {
     "name": "stdout",
     "output_type": "stream",
     "text": [
      "a부터 b까지 정수의 합을 구합니다.\n",
      "a: 10\n",
      "b: 1\n",
      "합: 55\n"
     ]
    }
   ],
   "source": [
    "#range 함수로 이터러블 객체 생성하기\n",
    "#####이터레이터 이터러블 개념숙지하기\n",
    "#a부터 b까지 정수의 합구하기\n",
    "\n",
    "print('a부터 b까지 정수의 합을 구합니다.')\n",
    "a = int(input('a: '))\n",
    "b = int(input('b: '))\n",
    "\n",
    "if a > b:\n",
    "    a, b = b, a # 보통 스왑과정에서 temp 변수를 사용해서 변환하지만 파이썬에서는 바로 가능하다.\n",
    "\n",
    "sum = 0\n",
    "for i in range(a, b+1):\n",
    "    sum += i\n",
    "    \n",
    "print(f'합: {sum}')"
   ]
  },
  {
   "cell_type": "markdown",
   "id": "97a80ce8",
   "metadata": {},
   "source": [
    "참고자료: https://blog.seulgi.kim/2017/01/python-swap.html, https://bigdaheta.tistory.com/4"
   ]
  },
  {
   "cell_type": "markdown",
   "id": "c955226f",
   "metadata": {},
   "source": [
    "# 2021-05-09"
   ]
  },
  {
   "cell_type": "code",
   "execution_count": 24,
   "id": "d7628c53",
   "metadata": {},
   "outputs": [
    {
     "name": "stdout",
     "output_type": "stream",
     "text": [
      "a부터 b까지 정수의 합을 구합니다.\n",
      "a: 1\n",
      "b: 10\n",
      "1 + 2 + 3 + 4 + 5 + 6 + 7 + 8 + 9 + 10 = 55\n"
     ]
    }
   ],
   "source": [
    "# a부터 b까지 정수의 합을 과정까지 나타내여 표현하기\n",
    "\n",
    "print('a부터 b까지 정수의 합을 구합니다.')\n",
    "a = int(input('a: '))\n",
    "b = int(input('b: '))\n",
    "\n",
    "if a > b:\n",
    "    a, b = b, a\n",
    "    \n",
    "sum = 0\n",
    "for i in range(a, b+1):\n",
    "    if i < b:\n",
    "        print(f'{i} + ', end='')\n",
    "    else:\n",
    "        print(f'{i} = ', end='')\n",
    "    sum += i\n",
    "    \n",
    "print(sum)"
   ]
  },
  {
   "cell_type": "markdown",
   "id": "e43eb29a",
   "metadata": {},
   "source": [
    "여기서 if-else는 효율적이지 못하므로 빼주는 것이 좋다 "
   ]
  },
  {
   "cell_type": "code",
   "execution_count": 3,
   "id": "d82b8413",
   "metadata": {},
   "outputs": [
    {
     "name": "stdout",
     "output_type": "stream",
     "text": [
      "a부터 b까지 정수의 합을 구합니다.\n",
      "a: 10\n",
      "b: 1\n",
      "1 + 2 + 3 + 4 + 5 + 6 + 7 + 8 + 9 + 10 = 55\n"
     ]
    }
   ],
   "source": [
    "print('a부터 b까지 정수의 합을 구합니다.')\n",
    "a = int(input('a: '))\n",
    "b = int(input('b: '))\n",
    "\n",
    "if a > b:\n",
    "    a, b = b, a\n",
    "    \n",
    "sum = 0\n",
    "\n",
    "for i in range(a, b):\n",
    "    print(f'{i} + ', end='')\n",
    "    sum += i\n",
    "    \n",
    "print(f'{b} = ', end='')\n",
    "sum += b\n",
    "\n",
    "print(sum)"
   ]
  },
  {
   "cell_type": "markdown",
   "id": "3c8a5a48",
   "metadata": {},
   "source": [
    "판단횟수가 n번에서 0번으로 바뀌고 반복횟수도 1번 감소하였다."
   ]
  },
  {
   "cell_type": "code",
   "execution_count": 7,
   "id": "c23edb1d",
   "metadata": {},
   "outputs": [
    {
     "name": "stdout",
     "output_type": "stream",
     "text": [
      "몇개를 출력할까요? 9\n",
      "+ - + - + - + - + \n"
     ]
    }
   ],
   "source": [
    "# +,- 반복하여 출력하기\n",
    "\n",
    "n = int(input('몇개를 출력할까요? '))\n",
    "\n",
    "for i in range(n):\n",
    "    if i % 2:\n",
    "        print('- ', end='')\n",
    "    else:\n",
    "        print('+ ', end='')\n",
    "\n",
    "print()"
   ]
  },
  {
   "cell_type": "markdown",
   "id": "e5e675b3",
   "metadata": {},
   "source": [
    "true: 값이 있거나, 조건이 참일때  \n",
    "false: 값이 없거나, 조건이 거짓일때"
   ]
  },
  {
   "cell_type": "code",
   "execution_count": 8,
   "id": "d74822a2",
   "metadata": {},
   "outputs": [
    {
     "name": "stdout",
     "output_type": "stream",
     "text": [
      "몇개를 출력할까요? 9\n",
      "+ - + - + - + - + \n"
     ]
    }
   ],
   "source": [
    "n = int(input('몇개를 출력할까요? '))\n",
    "\n",
    "for i in range(1, n+1):\n",
    "    if i % 2:\n",
    "        print('+ ', end='')\n",
    "    else:\n",
    "        print('- ', end='')\n",
    "\n",
    "print()"
   ]
  },
  {
   "cell_type": "markdown",
   "id": "692f5ea5",
   "metadata": {},
   "source": [
    "총 3N"
   ]
  },
  {
   "cell_type": "code",
   "execution_count": 10,
   "id": "dbb4b66f",
   "metadata": {},
   "outputs": [
    {
     "name": "stdout",
     "output_type": "stream",
     "text": [
      "몇개를 출력할까요? 9\n",
      "+ - + - + - + - +\n"
     ]
    }
   ],
   "source": [
    "n = int(input('몇개를 출력할까요? '))\n",
    "\n",
    "for _ in range(n//2):\n",
    "    print('+ - ',end='')\n",
    "\n",
    "if n % 2:\n",
    "    print('+',end='')\n",
    "    \n",
    "print()"
   ]
  },
  {
   "cell_type": "markdown",
   "id": "87d19d49",
   "metadata": {},
   "source": [
    "for문 안에 &#95;를 사용하는 이유는 반복문 안에서 인덱스를 사용할 필요가 없기 때문에"
   ]
  },
  {
   "cell_type": "markdown",
   "id": "3f7c4ee6",
   "metadata": {},
   "source": [
    "특수문자 정리: https://4urdev.tistory.com/62"
   ]
  },
  {
   "cell_type": "code",
   "execution_count": 1,
   "id": "cfc56d7f",
   "metadata": {},
   "outputs": [
    {
     "name": "stdout",
     "output_type": "stream",
     "text": [
      "몇 개? 15\n",
      "몇 개? 4\n",
      "****\n",
      "****\n",
      "****\n",
      "***\n"
     ]
    }
   ],
   "source": [
    "#*를 n개 출력하되 w개마다 줄바꿈하기\n",
    "n = int(input('몇 개? '))\n",
    "w = int(input('몇 개? '))\n",
    "for i in range(n):\n",
    "    print('*', end='')\n",
    "    if i % w == w-1:\n",
    "        print()\n",
    "        \n",
    "if n % w:\n",
    "    print()"
   ]
  },
  {
   "cell_type": "code",
   "execution_count": 2,
   "id": "0dc613a8",
   "metadata": {},
   "outputs": [
    {
     "name": "stdout",
     "output_type": "stream",
     "text": [
      "n: -1\n",
      "양수를 입력하시오.\n",
      "n: 10\n",
      "1~10까지의 합은 55.\n"
     ]
    }
   ],
   "source": [
    "#양수만 입력하기\n",
    "while True:\n",
    "    n = int(input('n: '))\n",
    "    if n > 0:\n",
    "        break\n",
    "    else:\n",
    "        print('양수를 입력하시오.')\n",
    "        \n",
    "sum = 0\n",
    "i = 1\n",
    "\n",
    "for i in range(1, n+1):\n",
    "    sum += i\n",
    "    i += 1\n",
    "    \n",
    "print(f'1~{n}까지의 합은 {sum}.')\n"
   ]
  },
  {
   "cell_type": "markdown",
   "id": "7de983b0",
   "metadata": {},
   "source": [
    "# 2021-05-10"
   ]
  },
  {
   "cell_type": "code",
   "execution_count": 2,
   "id": "ce812db3",
   "metadata": {},
   "outputs": [
    {
     "name": "stdout",
     "output_type": "stream",
     "text": [
      "직사각형의 넓이는?10\n",
      "1 x 10\n",
      "2 x 5\n"
     ]
    }
   ],
   "source": [
    "#가로,세로의 길이가 정수이고 넓이가 area인 직사각형에서 변의 길이 나열하기\n",
    "\n",
    "area = int(input('직사각형의 넓이는?'))\n",
    "\n",
    "for i in range(1, area+1):\n",
    "    if i * i > area: break\n",
    "    if area % i: continue\n",
    "    print(f'{i} x {area // i}')"
   ]
  },
  {
   "cell_type": "code",
   "execution_count": 1,
   "id": "ae8bfd55",
   "metadata": {},
   "outputs": [
    {
     "name": "stdout",
     "output_type": "stream",
     "text": [
      "난수의 갯수를 입력하시오: 14\n",
      "30 77 98 21 99 99 56 85 71 38 81 34 42 29 "
     ]
    }
   ],
   "source": [
    "# 10~99사이의 n개의 난수 뽑기(13이 나오면 중단)\n",
    "import random\n",
    "\n",
    "n = int(input('난수의 갯수를 입력하시오: '))\n",
    "\n",
    "for _ in range(n):\n",
    "    r = random.randint(10,99)\n",
    "    print(r, end=' ')\n",
    "    if r == 13:\n",
    "        break"
   ]
  },
  {
   "cell_type": "markdown",
   "id": "1ab28c05",
   "metadata": {},
   "source": [
    "# 2021-05-11"
   ]
  },
  {
   "cell_type": "code",
   "execution_count": 2,
   "id": "96ef744f",
   "metadata": {},
   "outputs": [
    {
     "name": "stdout",
     "output_type": "stream",
     "text": [
      "1 2 3 4 5 6 7 9 10 11 12 \n"
     ]
    }
   ],
   "source": [
    "# 1~ 12까지 8을 건너뛰고 출력하기\n",
    "\n",
    "for i in range(1,13):\n",
    "    if i == 8:\n",
    "        continue\n",
    "    print(i, end=' ')\n",
    "    \n",
    "print()"
   ]
  },
  {
   "cell_type": "code",
   "execution_count": 4,
   "id": "97f9d431",
   "metadata": {},
   "outputs": [
    {
     "name": "stdout",
     "output_type": "stream",
     "text": [
      "2자리 양수를 입력하세요. \n",
      "값을 입력하세요.: 100\n",
      "값을 입력하세요.: 99\n",
      "입력받은 양수는 99입니다.\n"
     ]
    }
   ],
   "source": [
    "# 2자리 양수 입력받기\n",
    "\n",
    "print('2자리 양수를 입력하세요. ')\n",
    "\n",
    "while True:\n",
    "    no = int(input('값을 입력하세요.: '))\n",
    "    if no >= 10 and no <=99:\n",
    "        break\n",
    "        \n",
    "print(f'입력받은 양수는 {no}입니다.')"
   ]
  },
  {
   "cell_type": "code",
   "execution_count": 7,
   "id": "d84997e2",
   "metadata": {},
   "outputs": [
    {
     "name": "stdout",
     "output_type": "stream",
     "text": [
      "  1  2  3  4  5  6  7  8  9\n",
      "  2  4  6  8 10 12 14 16 18\n",
      "  3  6  9 12 15 18 21 24 27\n",
      "  4  8 12 16 20 24 28 32 36\n",
      "  5 10 15 20 25 30 35 40 45\n",
      "  6 12 18 24 30 36 42 48 54\n",
      "  7 14 21 28 35 42 49 56 63\n",
      "  8 16 24 32 40 48 56 64 72\n",
      "  9 18 27 36 45 54 63 72 81\n"
     ]
    }
   ],
   "source": [
    "# 구구단 출력하기\n",
    "\n",
    "for i in range(1,10):\n",
    "    for j in range(1,10):\n",
    "        print(f'{i*j:3}',end='') # i*j:3 <- 3자리로 출력\n",
    "    print()"
   ]
  },
  {
   "cell_type": "markdown",
   "id": "070d2693",
   "metadata": {},
   "source": [
    "# 2021-05-12"
   ]
  },
  {
   "cell_type": "code",
   "execution_count": 1,
   "id": "113d8ced",
   "metadata": {},
   "outputs": [
    {
     "name": "stdout",
     "output_type": "stream",
     "text": [
      "짧은 변의 길이를 입력하세요. 5\n",
      "*\n",
      "\n",
      "**\n",
      "\n",
      "***\n",
      "\n",
      "****\n",
      "\n",
      "*****\n",
      "\n"
     ]
    }
   ],
   "source": [
    "# 왼쪽아래가 직각인 이등변 삼각형 만들기\n",
    "\n",
    "n = int(input('짧은 변의 길이를 입력하세요. '))\n",
    "\n",
    "for i in range(1,n+1):\n",
    "    print('*'*i)\n",
    "    print()"
   ]
  },
  {
   "cell_type": "code",
   "execution_count": 2,
   "id": "bded1c17",
   "metadata": {},
   "outputs": [
    {
     "name": "stdout",
     "output_type": "stream",
     "text": [
      "짧은 변의 길이를 입력하세요. 5\n",
      "     *\n",
      "\n",
      "    **\n",
      "\n",
      "   ***\n",
      "\n",
      "  ****\n",
      "\n",
      " *****\n",
      "\n"
     ]
    }
   ],
   "source": [
    "# 오른쪽 아래가 직각인 이등변 삼각형 만들기\n",
    "\n",
    "n = int(input('짧은 변의 길이를 입력하세요. '))\n",
    "\n",
    "for i in range(1,n+1):\n",
    "    print(' '*(n-i),'*'*i)\n",
    "    print()"
   ]
  },
  {
   "cell_type": "markdown",
   "id": "664110de",
   "metadata": {},
   "source": [
    "## 파이썬의 변수\n",
    "\n",
    "파이썬에서는 데이터, 함수, 클래스, 모듈, 패키지등을 모두 객체로 취급한다.  \n",
    "객체는 자료형을 가지며 메모리를 차지한다.   이러한 특징때문에 파이썬의 변수는 값을 갖지 않는다.\n",
    "\n",
    "- 변수는 객체를 참조하는 객체에 연결된 이름에 불과하다.\n",
    "- 모든 객체는 메모리를 차지하고, 자료형뿐만 아니라 식별 번호를 갖는다."
   ]
  },
  {
   "cell_type": "code",
   "execution_count": 3,
   "id": "3b338a4c",
   "metadata": {},
   "outputs": [],
   "source": [
    "n = 17"
   ]
  },
  {
   "cell_type": "code",
   "execution_count": 4,
   "id": "4dfcf833",
   "metadata": {},
   "outputs": [
    {
     "data": {
      "text/plain": [
       "94615762439360"
      ]
     },
     "execution_count": 4,
     "metadata": {},
     "output_type": "execute_result"
    }
   ],
   "source": [
    "id(17)"
   ]
  },
  {
   "cell_type": "code",
   "execution_count": 5,
   "id": "64bc838c",
   "metadata": {},
   "outputs": [
    {
     "data": {
      "text/plain": [
       "94615762439360"
      ]
     },
     "execution_count": 5,
     "metadata": {},
     "output_type": "execute_result"
    }
   ],
   "source": [
    "id(n)"
   ]
  },
  {
   "cell_type": "markdown",
   "id": "e785b036",
   "metadata": {},
   "source": [
    "17이라는 정수형 객체를 n이 참조"
   ]
  },
  {
   "cell_type": "code",
   "execution_count": 6,
   "id": "4079471c",
   "metadata": {},
   "outputs": [
    {
     "name": "stdout",
     "output_type": "stream",
     "text": [
      "id(1) = 94615762438848\n",
      "id(n) = 94615762438848\n",
      "id(x) = 94615762438848\n"
     ]
    }
   ],
   "source": [
    "# 함수 내부 외부에서 정의한 변수와 객체의 식별 번호를 출력하기\n",
    "\n",
    "n = 1    # 전역 변수\n",
    "\n",
    "def put_id():\n",
    "    x = 1 # 지역 변수\n",
    "    print(f'id(x) = {id(x)}')\n",
    "\n",
    "print(f'id(1) = {id(1)}')\n",
    "print(f'id(n) = {id(n)}')\n",
    "put_id()"
   ]
  },
  {
   "cell_type": "code",
   "execution_count": null,
   "id": "6b252311",
   "metadata": {},
   "outputs": [],
   "source": []
  }
 ],
 "metadata": {
  "kernelspec": {
   "display_name": "algorithm",
   "language": "python",
   "name": "algorithm"
  },
  "language_info": {
   "codemirror_mode": {
    "name": "ipython",
    "version": 3
   },
   "file_extension": ".py",
   "mimetype": "text/x-python",
   "name": "python",
   "nbconvert_exporter": "python",
   "pygments_lexer": "ipython3",
   "version": "3.6.13"
  }
 },
 "nbformat": 4,
 "nbformat_minor": 5
}
