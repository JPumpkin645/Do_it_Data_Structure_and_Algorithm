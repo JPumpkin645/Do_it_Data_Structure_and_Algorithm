{
 "cells": [
  {
   "cell_type": "markdown",
   "id": "e9b58494",
   "metadata": {},
   "source": [
    "1-1 알고리즘이란?"
   ]
  },
  {
   "cell_type": "code",
   "execution_count": 1,
   "id": "ff8db5f8",
   "metadata": {},
   "outputs": [
    {
     "name": "stdout",
     "output_type": "stream",
     "text": [
      "세 정수의 최댓값을 구합니다.\n",
      "정수 a의 값을 입력하세요.: 1\n",
      "정수 b의 값을 입력하세요.: 2\n",
      "정수 c의 값을 입력하세요.: 3\n",
      "최댓값은 3입니다.\n"
     ]
    }
   ],
   "source": [
    "# [Do it! 실습 1-1] 세 정수를 입력받아 최댓값 구하기\n",
    "\n",
    "print('세 정수의 최댓값을 구합니다.')\n",
    "a = int(input('정수 a의 값을 입력하세요.: '))\n",
    "b = int(input('정수 b의 값을 입력하세요.: '))\n",
    "c = int(input('정수 c의 값을 입력하세요.: '))\n",
    "\n",
    "maximum = a\n",
    "if b > maximum: maximum = b\n",
    "if c > maximum: maximum = c\n",
    "\n",
    "print(f'최댓값은 {maximum}입니다.')"
   ]
  },
  {
   "cell_type": "markdown",
   "id": "ad792913",
   "metadata": {},
   "source": [
    "순차구조, 조건식, 선택구조"
   ]
  },
  {
   "cell_type": "code",
   "execution_count": 3,
   "id": "01cb61bb",
   "metadata": {},
   "outputs": [
    {
     "name": "stdout",
     "output_type": "stream",
     "text": [
      "이름을 입력하세요.: 정호\n",
      "안녕하세요? 정호 님.\n"
     ]
    }
   ],
   "source": [
    "print('이름을 입력하세요.: ', end='')\n",
    "name = input()\n",
    "print(f'안녕하세요? {name} 님.')"
   ]
  },
  {
   "cell_type": "markdown",
   "id": "bda25f84",
   "metadata": {},
   "source": [
    "input() 함수는 문자열을 입력받는다."
   ]
  },
  {
   "cell_type": "code",
   "execution_count": 4,
   "id": "193ad95a",
   "metadata": {},
   "outputs": [
    {
     "name": "stdout",
     "output_type": "stream",
     "text": [
      "이름을 입력하세요.: 정호\n",
      "안녕하세요? 정호 님.\n"
     ]
    }
   ],
   "source": [
    "name = input('이름을 입력하세요.: ')\n",
    "print(f'안녕하세요? {name} 님.')"
   ]
  },
  {
   "cell_type": "markdown",
   "id": "81cd87df",
   "metadata": {},
   "source": [
    "int(input()) 형변환"
   ]
  },
  {
   "cell_type": "markdown",
   "id": "b58b0925",
   "metadata": {},
   "source": [
    "float() 실수형 반환"
   ]
  },
  {
   "cell_type": "code",
   "execution_count": 9,
   "id": "3ad53fe3",
   "metadata": {},
   "outputs": [
    {
     "name": "stdout",
     "output_type": "stream",
     "text": [
      "17\n",
      "6\n",
      "61\n",
      "13\n",
      "63\n",
      "3.14\n"
     ]
    }
   ],
   "source": [
    "print(int('17'))\n",
    "print(int('0b110', 2))\n",
    "print(int('0o75', 8))\n",
    "print(int('13', 10))\n",
    "print(int('0x3F', 16))\n",
    "print(float('3.14'))"
   ]
  },
  {
   "cell_type": "code",
   "execution_count": 10,
   "id": "fa444696",
   "metadata": {},
   "outputs": [
    {
     "ename": "ValueError",
     "evalue": "invalid literal for int() with base 10: '0x3F'",
     "output_type": "error",
     "traceback": [
      "\u001b[0;31m---------------------------------------------------------------------------\u001b[0m",
      "\u001b[0;31mValueError\u001b[0m                                Traceback (most recent call last)",
      "\u001b[0;32m<ipython-input-10-7b717c4fe8ae>\u001b[0m in \u001b[0;36m<module>\u001b[0;34m\u001b[0m\n\u001b[0;32m----> 1\u001b[0;31m \u001b[0mprint\u001b[0m\u001b[0;34m(\u001b[0m\u001b[0mint\u001b[0m\u001b[0;34m(\u001b[0m\u001b[0;34m'0x3F'\u001b[0m\u001b[0;34m)\u001b[0m\u001b[0;34m)\u001b[0m\u001b[0;34m\u001b[0m\u001b[0;34m\u001b[0m\u001b[0m\n\u001b[0m",
      "\u001b[0;31mValueError\u001b[0m: invalid literal for int() with base 10: '0x3F'"
     ]
    }
   ],
   "source": [
    "print(int('0x3F'))"
   ]
  },
  {
   "cell_type": "markdown",
   "id": "8dfa4a1f",
   "metadata": {},
   "source": [
    "기본은 10진법형식으로 표기된다 다른 진법으로 표현한경우 따로 표기할것"
   ]
  },
  {
   "cell_type": "markdown",
   "id": "64bf20a0",
   "metadata": {},
   "source": [
    "-21.05.07-"
   ]
  },
  {
   "cell_type": "code",
   "execution_count": null,
   "id": "795d0a5c",
   "metadata": {},
   "outputs": [],
   "source": []
  }
 ],
 "metadata": {
  "kernelspec": {
   "display_name": "algorithm",
   "language": "python",
   "name": "algorithm"
  },
  "language_info": {
   "codemirror_mode": {
    "name": "ipython",
    "version": 3
   },
   "file_extension": ".py",
   "mimetype": "text/x-python",
   "name": "python",
   "nbconvert_exporter": "python",
   "pygments_lexer": "ipython3",
   "version": "3.6.13"
  }
 },
 "nbformat": 4,
 "nbformat_minor": 5
}
