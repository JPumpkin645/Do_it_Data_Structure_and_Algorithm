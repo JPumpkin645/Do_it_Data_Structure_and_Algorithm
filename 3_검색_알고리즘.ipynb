{
 "cells": [
  {
   "cell_type": "markdown",
   "source": [
    "# 검색 알고리즘"
   ],
   "metadata": {}
  },
  {
   "cell_type": "markdown",
   "source": [
    "1. 배열 검색\n",
    "2. 연결리스트 검색\n",
    "3. 이진 검색 트리"
   ],
   "metadata": {}
  },
  {
   "cell_type": "markdown",
   "source": [
    "1. 배열검색\n",
    "\n",
    "    1.1 선형 검색  \n",
    "    1.2 이진 검색  \n",
    "    1.3 해시법  "
   ],
   "metadata": {}
  },
  {
   "cell_type": "markdown",
   "source": [
    "## 선형 검색"
   ],
   "metadata": {}
  },
  {
   "cell_type": "markdown",
   "source": [
    "선형 검색의 종료 조건\n",
    "1. 검색할 값을 찾지 배열의 맨 끝을 지난 경우 (실패)\n",
    "2. 검색할 값과 같은 원소를 찾는 경우 (성공)"
   ],
   "metadata": {}
  },
  {
   "cell_type": "markdown",
   "source": [
    "# 2021-09-04"
   ],
   "metadata": {}
  },
  {
   "cell_type": "code",
   "execution_count": 6,
   "source": [
    "from typing import Any, Sequence\n",
    "\n",
    "def seq_search(a: Sequence, key: Any) -> int:\n",
    "    i = 0\n",
    "\n",
    "    while True:\n",
    "        if i == len(a):\n",
    "            return -1\n",
    "        if a[i] ==key:\n",
    "            return i\n",
    "        i += 1\n",
    "\n",
    "if __name__ == '__main__':\n",
    "    num = int(input('원소의 갯수:'))\n",
    "    x = [None] * num\n",
    "\n",
    "    for i in range(num):\n",
    "        x[i] = int(input(f'x[{i}]: '))\n",
    "    ky = int(input('검색할 값:'))\n",
    "\n",
    "    idx  = seq_search(x, ky)\n",
    "\n",
    "    if idx == -1:\n",
    "        print('해당하는 값은 존재하지 않습니다.')\n",
    "    else:\n",
    "        print(f'해당 값은 {idx+1}번 째에 있습니다.')"
   ],
   "outputs": [
    {
     "output_type": "stream",
     "name": "stdout",
     "text": [
      "해당하는 값은 존재하지 않습니다.\n"
     ]
    }
   ],
   "metadata": {}
  },
  {
   "cell_type": "markdown",
   "source": [
    "매 루프에서 len(a)가 실행됨"
   ],
   "metadata": {}
  },
  {
   "cell_type": "markdown",
   "source": [
    "## 보초법"
   ],
   "metadata": {}
  },
  {
   "cell_type": "code",
   "execution_count": 7,
   "source": [
    "from typing import Any, Sequence\n",
    "import copy\n",
    "\n",
    "def seq_search(seq: Sequence, key: Any) -> int:\n",
    "    \n",
    "    a = copy.deepcopy(seq)\n",
    "    a.append(key)\n",
    "    \n",
    "    i = 0\n",
    "    while True:\n",
    "        if a[i] ==key:\n",
    "            break\n",
    "        i += 1\n",
    "    return -1 if i == len(seq) else i\n",
    "    \n",
    "if __name__ == '__main__':\n",
    "    num = int(input('원소의 갯수:'))\n",
    "    x = [None] * num\n",
    "\n",
    "    for i in range(num):\n",
    "        x[i] = int(input(f'x[{i}]: '))\n",
    "    ky = int(input('검색할 값:'))\n",
    "\n",
    "    idx  = seq_search(x, ky)\n",
    "\n",
    "    if idx == -1:\n",
    "        print('해당하는 값은 존재하지 않습니다.')\n",
    "    else:\n",
    "        print(f'해당 값은 {idx+1}번 째에 있습니다.')"
   ],
   "outputs": [
    {
     "output_type": "stream",
     "name": "stdout",
     "text": [
      "해당 값은 2번 째에 있습니다.\n"
     ]
    }
   ],
   "metadata": {}
  },
  {
   "cell_type": "markdown",
   "source": [
    "매 루프에서 len(a)가 계산되는걸 copy.deepcopy가 해결함"
   ],
   "metadata": {}
  },
  {
   "cell_type": "markdown",
   "source": [
    "# 2021-09-06"
   ],
   "metadata": {}
  },
  {
   "cell_type": "markdown",
   "source": [
    "## 이진검색"
   ],
   "metadata": {}
  },
  {
   "cell_type": "markdown",
   "source": [
    "이진 검색 알고리즘을 사용하려면 배열의 데이터가 정렬되어 있어야한다."
   ],
   "metadata": {}
  },
  {
   "cell_type": "code",
   "execution_count": 1,
   "source": [
    "from typing import Any, Sequence\n",
    "\n",
    "def bin_search(a: Sequence, key: Any) -> int:\n",
    "\n",
    "    pl = 0\n",
    "    pr = len(a) - 1\n",
    "\n",
    "    while True:\n",
    "        pc = (pl + pr) // 2\n",
    "        if a[pc] == key:\n",
    "            return pc\n",
    "        elif a[pc] < key:\n",
    "            pl = pc + 1\n",
    "        else:\n",
    "            pr = pc - 1\n",
    "        if pl > pr:\n",
    "            break\n",
    "        \n",
    "        return -1\n",
    "        "
   ],
   "outputs": [],
   "metadata": {}
  },
  {
   "cell_type": "code",
   "execution_count": 2,
   "source": [
    "from __future__ import annotations\n",
    "from typing import Any, Type\n",
    "import hashlib\n",
    "\n",
    "class Node:\n",
    "\n",
    "    def __init__(self, key: Any, value: Any, next: Node) -> None:\n",
    "\n",
    "        self.key = key\n",
    "        self.value = value\n",
    "        self.next = next"
   ],
   "outputs": [],
   "metadata": {}
  },
  {
   "cell_type": "code",
   "execution_count": 3,
   "source": [
    "class ChaninedHash:\n",
    "\n",
    "    def __init__(self, capacity: int) -> None:\n",
    "\n",
    "        self.capacity = capacity\n",
    "        self.table = [None] * self.capacity\n",
    "\n",
    "    def hash_value(self, key: Any) -> int:\n",
    "\n",
    "        if isinstance(key, int):\n",
    "            return key % self.capacity\n",
    "\n",
    "        return(int(hashlib.sha256(str(key).encode()).hexdigest(),16) % self.capacity)"
   ],
   "outputs": [],
   "metadata": {}
  },
  {
   "cell_type": "code",
   "execution_count": null,
   "source": [
    "def search(self, key: Any) -> Any:\n",
    "\n",
    "    hash = self.hash_value(key)\n",
    "    p = self.table[hash]\n",
    "\n",
    "    while p is not None:\n",
    "        if p.key ==key:\n",
    "            return p. value\n",
    "        p = p. next\n",
    "\n",
    "    return None\n",
    "\n",
    "def add(self, key: Any, value: Any) -> bool:\n",
    "    hash = self.hash_value(key)\n",
    "    p = self.table[hash]\n",
    "\n",
    "    while p is not None:\n",
    "        if p.key == key:\n",
    "            return False\n",
    "        p.next\n",
    "\n",
    "    temp = Node(key, value, self.table[hash])\n",
    "    self.table[hash] = temp\n",
    "    return True"
   ],
   "outputs": [],
   "metadata": {}
  },
  {
   "cell_type": "markdown",
   "source": [
    "1. 해시 함수를 이용하여 키를 해시값으로 변환한다.\n",
    "2. 해시값을 인덱스로 하는 버킷에 주목한다.\n",
    "3. 버킷이 참조하는 연결 리스트를 맨 앞부터 차례로 스캔한다.  \n",
    "   키와 같은 값이면 검색에 성공, 원소의 맨끝까지 스캔해서 발견되지 않으면 검색에 실패한다."
   ],
   "metadata": {}
  }
 ],
 "metadata": {
  "orig_nbformat": 4,
  "language_info": {
   "name": "python",
   "version": "3.9.6",
   "mimetype": "text/x-python",
   "codemirror_mode": {
    "name": "ipython",
    "version": 3
   },
   "pygments_lexer": "ipython3",
   "nbconvert_exporter": "python",
   "file_extension": ".py"
  },
  "kernelspec": {
   "name": "python3",
   "display_name": "Python 3.9.6 64-bit"
  },
  "interpreter": {
   "hash": "fdb71c84bf8c11ddff74409f5a5d9c4e467880dda8cd053f9669bf94408688dc"
  }
 },
 "nbformat": 4,
 "nbformat_minor": 2
}