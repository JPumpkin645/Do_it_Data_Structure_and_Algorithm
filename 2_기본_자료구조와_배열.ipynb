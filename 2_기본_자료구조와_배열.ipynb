{
 "cells": [
  {
   "cell_type": "markdown",
   "id": "390ff7cc",
   "metadata": {},
   "source": [
    "# 2021-05-13"
   ]
  },
  {
   "cell_type": "markdown",
   "id": "3c6780ef",
   "metadata": {},
   "source": [
    "## 자료구조와 배열"
   ]
  },
  {
   "cell_type": "markdown",
   "id": "c6eb4d47",
   "metadata": {},
   "source": [
    "자료구조를 정의하고 기본 자료구조인 배열을 살펴본다.  \n",
    "배열을 리스트와 튜플로 구현한다."
   ]
  },
  {
   "cell_type": "code",
   "execution_count": 2,
   "id": "5556fd75",
   "metadata": {},
   "outputs": [
    {
     "name": "stdout",
     "output_type": "stream",
     "text": [
      "학생 그룹 점수의 합계와 평균을 구합니다.\n",
      "1번 학생의 점수를 입력하세요.: 1\n",
      "2번 학생의 점수를 입력하세요.: 2\n",
      "3번 학생의 점수를 입력하세요.: 3\n",
      "4번 학생의 점수를 입력하세요.: 4\n",
      "5번 학생의 점수를 입력하세요.: 5\n",
      "합계는 15점입니다.\n",
      "평균은 3.0점입니다.\n"
     ]
    }
   ],
   "source": [
    "#[Do it! 실습 2-1] 학생 5명의 점수를 입력받아 합계와 평균을 출력하기\n",
    "\n",
    "print('학생 그룹 점수의 합계와 평균을 구합니다.')\n",
    "\n",
    "score1 = int(input('1번 학생의 점수를 입력하세요.: '))\n",
    "score2 = int(input('2번 학생의 점수를 입력하세요.: '))\n",
    "score3 = int(input('3번 학생의 점수를 입력하세요.: '))\n",
    "score4 = int(input('4번 학생의 점수를 입력하세요.: '))\n",
    "score5 = int(input('5번 학생의 점수를 입력하세요.: '))\n",
    "\n",
    "total = 0\n",
    "total += score1\n",
    "total += score2\n",
    "total += score3\n",
    "total += score4\n",
    "total += score5\n",
    "\n",
    "print(f'합계는 {total}점입니다.')\n",
    "print(f'평균은 {total / 5}점입니다.')"
   ]
  },
  {
   "cell_type": "markdown",
   "id": "61e6dae8",
   "metadata": {},
   "source": [
    "파이썬에서 배열 원소의 자료형은 int, float형 어떤 것이라도 상관없다.  \n",
    "배열에는 서로 다른 자료형을 같이 저장할 수 있으며, 배열 원소 자체를 배열에 저장할수도 있다."
   ]
  },
  {
   "cell_type": "markdown",
   "id": "fc77fa23",
   "metadata": {},
   "source": [
    "## list"
   ]
  },
  {
   "cell_type": "markdown",
   "id": "7353372c",
   "metadata": {},
   "source": [
    "list는 뮤터블 자료형이다.  "
   ]
  },
  {
   "cell_type": "code",
   "execution_count": 3,
   "id": "7205ce34",
   "metadata": {},
   "outputs": [],
   "source": [
    "list_1 = list()"
   ]
  },
  {
   "cell_type": "code",
   "execution_count": 4,
   "id": "c273bcbc",
   "metadata": {},
   "outputs": [
    {
     "data": {
      "text/plain": [
       "[]"
      ]
     },
     "execution_count": 4,
     "metadata": {},
     "output_type": "execute_result"
    }
   ],
   "source": [
    "list_1"
   ]
  },
  {
   "cell_type": "code",
   "execution_count": 5,
   "id": "f735811d",
   "metadata": {},
   "outputs": [
    {
     "data": {
      "text/plain": [
       "[13, 11, 9, 7, 5]"
      ]
     },
     "execution_count": 5,
     "metadata": {},
     "output_type": "execute_result"
    }
   ],
   "source": [
    "list_2 = list(range(13,3,-2))\n",
    "list_2"
   ]
  },
  {
   "cell_type": "markdown",
   "id": "48116851",
   "metadata": {},
   "source": [
    "## Tuple"
   ]
  },
  {
   "cell_type": "markdown",
   "id": "328acb36",
   "metadata": {},
   "source": [
    "tuple은 이뮤터블 자료형이다."
   ]
  },
  {
   "cell_type": "code",
   "execution_count": 7,
   "id": "0ccae07d",
   "metadata": {},
   "outputs": [],
   "source": [
    "a = ()\n",
    "b = (1)\n",
    "c = (1,)\n",
    "d = 1,"
   ]
  },
  {
   "cell_type": "code",
   "execution_count": 8,
   "id": "39cb6482",
   "metadata": {},
   "outputs": [
    {
     "data": {
      "text/plain": [
       "()"
      ]
     },
     "execution_count": 8,
     "metadata": {},
     "output_type": "execute_result"
    }
   ],
   "source": [
    "a"
   ]
  },
  {
   "cell_type": "code",
   "execution_count": 9,
   "id": "6bcff9f9",
   "metadata": {},
   "outputs": [
    {
     "data": {
      "text/plain": [
       "1"
      ]
     },
     "execution_count": 9,
     "metadata": {},
     "output_type": "execute_result"
    }
   ],
   "source": [
    "b"
   ]
  },
  {
   "cell_type": "code",
   "execution_count": 10,
   "id": "73f8a774",
   "metadata": {},
   "outputs": [
    {
     "data": {
      "text/plain": [
       "(1,)"
      ]
     },
     "execution_count": 10,
     "metadata": {},
     "output_type": "execute_result"
    }
   ],
   "source": [
    "c"
   ]
  },
  {
   "cell_type": "code",
   "execution_count": 11,
   "id": "96472982",
   "metadata": {},
   "outputs": [
    {
     "data": {
      "text/plain": [
       "(1,)"
      ]
     },
     "execution_count": 11,
     "metadata": {},
     "output_type": "execute_result"
    }
   ],
   "source": [
    "d"
   ]
  },
  {
   "cell_type": "code",
   "execution_count": 12,
   "id": "e63c98c3",
   "metadata": {},
   "outputs": [
    {
     "data": {
      "text/plain": [
       "int"
      ]
     },
     "execution_count": 12,
     "metadata": {},
     "output_type": "execute_result"
    }
   ],
   "source": [
    "type(b)"
   ]
  },
  {
   "cell_type": "code",
   "execution_count": 13,
   "id": "bef36085",
   "metadata": {},
   "outputs": [],
   "source": [
    "b = (1,2)"
   ]
  },
  {
   "cell_type": "code",
   "execution_count": 14,
   "id": "88f4686e",
   "metadata": {},
   "outputs": [
    {
     "data": {
      "text/plain": [
       "tuple"
      ]
     },
     "execution_count": 14,
     "metadata": {},
     "output_type": "execute_result"
    }
   ],
   "source": [
    "type(b)"
   ]
  },
  {
   "cell_type": "markdown",
   "id": "cc4a1284",
   "metadata": {},
   "source": [
    "원소가 1개 일때는 쉼표를 입력해서 튜플로 만들어줘야한다."
   ]
  },
  {
   "cell_type": "code",
   "execution_count": 15,
   "id": "b12a1a15",
   "metadata": {},
   "outputs": [],
   "source": [
    "a = tuple()\n",
    "b = tuple('ABC')\n",
    "c = tuple([1,2,3])\n",
    "d = tuple({1,2,3})"
   ]
  },
  {
   "cell_type": "code",
   "execution_count": 16,
   "id": "3369a858",
   "metadata": {},
   "outputs": [
    {
     "data": {
      "text/plain": [
       "()"
      ]
     },
     "execution_count": 16,
     "metadata": {},
     "output_type": "execute_result"
    }
   ],
   "source": [
    "a"
   ]
  },
  {
   "cell_type": "code",
   "execution_count": 17,
   "id": "620b3dbf",
   "metadata": {},
   "outputs": [
    {
     "data": {
      "text/plain": [
       "('A', 'B', 'C')"
      ]
     },
     "execution_count": 17,
     "metadata": {},
     "output_type": "execute_result"
    }
   ],
   "source": [
    "b"
   ]
  },
  {
   "cell_type": "code",
   "execution_count": 18,
   "id": "f27a321b",
   "metadata": {},
   "outputs": [
    {
     "data": {
      "text/plain": [
       "(1, 2, 3)"
      ]
     },
     "execution_count": 18,
     "metadata": {},
     "output_type": "execute_result"
    }
   ],
   "source": [
    "c"
   ]
  },
  {
   "cell_type": "code",
   "execution_count": 19,
   "id": "e78d2f4b",
   "metadata": {},
   "outputs": [
    {
     "data": {
      "text/plain": [
       "(1, 2, 3)"
      ]
     },
     "execution_count": 19,
     "metadata": {},
     "output_type": "execute_result"
    }
   ],
   "source": [
    "d"
   ]
  },
  {
   "cell_type": "markdown",
   "id": "0ca5024d",
   "metadata": {},
   "source": [
    "## unpack"
   ]
  },
  {
   "cell_type": "code",
   "execution_count": 20,
   "id": "2f8a943e",
   "metadata": {},
   "outputs": [],
   "source": [
    "x = [1,2,3]\n",
    "a,b,c = x"
   ]
  },
  {
   "cell_type": "code",
   "execution_count": 21,
   "id": "f092755e",
   "metadata": {},
   "outputs": [
    {
     "data": {
      "text/plain": [
       "1"
      ]
     },
     "execution_count": 21,
     "metadata": {},
     "output_type": "execute_result"
    }
   ],
   "source": [
    "a"
   ]
  },
  {
   "cell_type": "code",
   "execution_count": 22,
   "id": "2993a795",
   "metadata": {},
   "outputs": [
    {
     "data": {
      "text/plain": [
       "2"
      ]
     },
     "execution_count": 22,
     "metadata": {},
     "output_type": "execute_result"
    }
   ],
   "source": [
    "b"
   ]
  },
  {
   "cell_type": "code",
   "execution_count": 23,
   "id": "b5c25767",
   "metadata": {},
   "outputs": [
    {
     "data": {
      "text/plain": [
       "3"
      ]
     },
     "execution_count": 23,
     "metadata": {},
     "output_type": "execute_result"
    }
   ],
   "source": [
    "c"
   ]
  },
  {
   "cell_type": "code",
   "execution_count": 24,
   "id": "9878faf9",
   "metadata": {},
   "outputs": [
    {
     "data": {
      "text/plain": [
       "(1, 2, 3)"
      ]
     },
     "execution_count": 24,
     "metadata": {},
     "output_type": "execute_result"
    }
   ],
   "source": [
    "a, b, c"
   ]
  },
  {
   "cell_type": "code",
   "execution_count": 25,
   "id": "22c9cbc5",
   "metadata": {},
   "outputs": [
    {
     "data": {
      "text/plain": [
       "int"
      ]
     },
     "execution_count": 25,
     "metadata": {},
     "output_type": "execute_result"
    }
   ],
   "source": [
    "type(a)"
   ]
  },
  {
   "cell_type": "markdown",
   "id": "277bd5b6",
   "metadata": {},
   "source": [
    "# 인덱스 사용하기"
   ]
  },
  {
   "cell_type": "code",
   "execution_count": 26,
   "id": "adac5fca",
   "metadata": {},
   "outputs": [],
   "source": [
    "x = [1,2,3,4,5,6,7]"
   ]
  },
  {
   "cell_type": "code",
   "execution_count": 27,
   "id": "0d64c7de",
   "metadata": {},
   "outputs": [
    {
     "data": {
      "text/plain": [
       "1"
      ]
     },
     "execution_count": 27,
     "metadata": {},
     "output_type": "execute_result"
    }
   ],
   "source": [
    "x[0]"
   ]
  },
  {
   "cell_type": "code",
   "execution_count": 28,
   "id": "e9fea196",
   "metadata": {},
   "outputs": [
    {
     "data": {
      "text/plain": [
       "7"
      ]
     },
     "execution_count": 28,
     "metadata": {},
     "output_type": "execute_result"
    }
   ],
   "source": [
    "x[-1]"
   ]
  },
  {
   "cell_type": "code",
   "execution_count": 29,
   "id": "3d770e1d",
   "metadata": {},
   "outputs": [],
   "source": [
    "x[-2] = 0.5"
   ]
  },
  {
   "cell_type": "code",
   "execution_count": 30,
   "id": "b0a17abb",
   "metadata": {},
   "outputs": [
    {
     "data": {
      "text/plain": [
       "[1, 2, 3, 4, 5, 0.5, 7]"
      ]
     },
     "execution_count": 30,
     "metadata": {},
     "output_type": "execute_result"
    }
   ],
   "source": [
    "x"
   ]
  },
  {
   "cell_type": "code",
   "execution_count": 31,
   "id": "2d3278fb",
   "metadata": {},
   "outputs": [
    {
     "ename": "IndexError",
     "evalue": "list index out of range",
     "output_type": "error",
     "traceback": [
      "\u001b[0;31m---------------------------------------------------------------------------\u001b[0m",
      "\u001b[0;31mIndexError\u001b[0m                                Traceback (most recent call last)",
      "\u001b[0;32m<ipython-input-31-1515eb8c000f>\u001b[0m in \u001b[0;36m<module>\u001b[0;34m\u001b[0m\n\u001b[0;32m----> 1\u001b[0;31m \u001b[0mx\u001b[0m\u001b[0;34m[\u001b[0m\u001b[0;36m7\u001b[0m\u001b[0;34m]\u001b[0m\u001b[0;34m\u001b[0m\u001b[0;34m\u001b[0m\u001b[0m\n\u001b[0m",
      "\u001b[0;31mIndexError\u001b[0m: list index out of range"
     ]
    }
   ],
   "source": [
    "x[7]"
   ]
  },
  {
   "cell_type": "code",
   "execution_count": 32,
   "id": "cdc6aad0",
   "metadata": {},
   "outputs": [
    {
     "ename": "IndexError",
     "evalue": "list assignment index out of range",
     "output_type": "error",
     "traceback": [
      "\u001b[0;31m---------------------------------------------------------------------------\u001b[0m",
      "\u001b[0;31mIndexError\u001b[0m                                Traceback (most recent call last)",
      "\u001b[0;32m<ipython-input-32-09887da8524a>\u001b[0m in \u001b[0;36m<module>\u001b[0;34m\u001b[0m\n\u001b[0;32m----> 1\u001b[0;31m \u001b[0mx\u001b[0m\u001b[0;34m[\u001b[0m\u001b[0;36m7\u001b[0m\u001b[0;34m]\u001b[0m \u001b[0;34m=\u001b[0m \u001b[0;36m8\u001b[0m\u001b[0;34m\u001b[0m\u001b[0;34m\u001b[0m\u001b[0m\n\u001b[0m",
      "\u001b[0;31mIndexError\u001b[0m: list assignment index out of range"
     ]
    }
   ],
   "source": [
    "x[7] = 8"
   ]
  },
  {
   "cell_type": "code",
   "execution_count": 33,
   "id": "a76b4aaf",
   "metadata": {},
   "outputs": [],
   "source": [
    "x.append(8)"
   ]
  },
  {
   "cell_type": "code",
   "execution_count": 34,
   "id": "4b60f9e2",
   "metadata": {},
   "outputs": [
    {
     "data": {
      "text/plain": [
       "[1, 2, 3, 4, 5, 0.5, 7, 8]"
      ]
     },
     "execution_count": 34,
     "metadata": {},
     "output_type": "execute_result"
    }
   ],
   "source": [
    "x"
   ]
  },
  {
   "cell_type": "code",
   "execution_count": 1,
   "id": "f70c285b",
   "metadata": {},
   "outputs": [],
   "source": [
    "#슬라이스식으로 원소에 접근하기"
   ]
  },
  {
   "cell_type": "code",
   "execution_count": 2,
   "id": "46874d50",
   "metadata": {},
   "outputs": [],
   "source": [
    "s = [1,2,3,4,5,6,7]"
   ]
  },
  {
   "cell_type": "code",
   "execution_count": 3,
   "id": "11c48d4f",
   "metadata": {},
   "outputs": [
    {
     "data": {
      "text/plain": [
       "[1, 2, 3, 4, 5]"
      ]
     },
     "execution_count": 3,
     "metadata": {},
     "output_type": "execute_result"
    }
   ],
   "source": [
    "s[0:5]"
   ]
  },
  {
   "cell_type": "code",
   "execution_count": 4,
   "id": "f5947540",
   "metadata": {},
   "outputs": [
    {
     "data": {
      "text/plain": [
       "[1, 3, 5]"
      ]
     },
     "execution_count": 4,
     "metadata": {},
     "output_type": "execute_result"
    }
   ],
   "source": [
    "s[0:6:2]"
   ]
  },
  {
   "cell_type": "code",
   "execution_count": 5,
   "id": "72af60bc",
   "metadata": {},
   "outputs": [
    {
     "data": {
      "text/plain": [
       "[1, 3, 5, 7]"
      ]
     },
     "execution_count": 5,
     "metadata": {},
     "output_type": "execute_result"
    }
   ],
   "source": [
    "s[0:7:2]"
   ]
  },
  {
   "cell_type": "code",
   "execution_count": 6,
   "id": "ce746931",
   "metadata": {},
   "outputs": [
    {
     "data": {
      "text/plain": [
       "[]"
      ]
     },
     "execution_count": 6,
     "metadata": {},
     "output_type": "execute_result"
    }
   ],
   "source": [
    "s[3:1]"
   ]
  },
  {
   "cell_type": "code",
   "execution_count": 12,
   "id": "a1c024e6",
   "metadata": {},
   "outputs": [],
   "source": [
    "s = list(range(0,30))"
   ]
  },
  {
   "cell_type": "code",
   "execution_count": 13,
   "id": "f10ea545",
   "metadata": {
    "collapsed": true
   },
   "outputs": [
    {
     "data": {
      "text/plain": [
       "[0,\n",
       " 1,\n",
       " 2,\n",
       " 3,\n",
       " 4,\n",
       " 5,\n",
       " 6,\n",
       " 7,\n",
       " 8,\n",
       " 9,\n",
       " 10,\n",
       " 11,\n",
       " 12,\n",
       " 13,\n",
       " 14,\n",
       " 15,\n",
       " 16,\n",
       " 17,\n",
       " 18,\n",
       " 19,\n",
       " 20,\n",
       " 21,\n",
       " 22,\n",
       " 23,\n",
       " 24,\n",
       " 25,\n",
       " 26,\n",
       " 27,\n",
       " 28,\n",
       " 29]"
      ]
     },
     "execution_count": 13,
     "metadata": {},
     "output_type": "execute_result"
    }
   ],
   "source": [
    "s"
   ]
  },
  {
   "cell_type": "code",
   "execution_count": 14,
   "id": "0201a8a3",
   "metadata": {
    "collapsed": true
   },
   "outputs": [
    {
     "data": {
      "text/plain": [
       "[0,\n",
       " 1,\n",
       " 2,\n",
       " 3,\n",
       " 4,\n",
       " 5,\n",
       " 6,\n",
       " 7,\n",
       " 8,\n",
       " 9,\n",
       " 10,\n",
       " 11,\n",
       " 12,\n",
       " 13,\n",
       " 14,\n",
       " 15,\n",
       " 16,\n",
       " 17,\n",
       " 18,\n",
       " 19,\n",
       " 20,\n",
       " 21,\n",
       " 22,\n",
       " 23,\n",
       " 24,\n",
       " 25,\n",
       " 26,\n",
       " 27,\n",
       " 28,\n",
       " 29]"
      ]
     },
     "execution_count": 14,
     "metadata": {},
     "output_type": "execute_result"
    }
   ],
   "source": [
    "s[:]"
   ]
  },
  {
   "cell_type": "code",
   "execution_count": 15,
   "id": "876ca74c",
   "metadata": {},
   "outputs": [
    {
     "data": {
      "text/plain": [
       "[0, 2, 4, 6, 8, 10, 12, 14, 16, 18, 20, 22, 24, 26, 28]"
      ]
     },
     "execution_count": 15,
     "metadata": {},
     "output_type": "execute_result"
    }
   ],
   "source": [
    "s[::2]"
   ]
  },
  {
   "cell_type": "code",
   "execution_count": 16,
   "id": "258b218f",
   "metadata": {
    "collapsed": true
   },
   "outputs": [
    {
     "data": {
      "text/plain": [
       "[29,\n",
       " 28,\n",
       " 27,\n",
       " 26,\n",
       " 25,\n",
       " 24,\n",
       " 23,\n",
       " 22,\n",
       " 21,\n",
       " 20,\n",
       " 19,\n",
       " 18,\n",
       " 17,\n",
       " 16,\n",
       " 15,\n",
       " 14,\n",
       " 13,\n",
       " 12,\n",
       " 11,\n",
       " 10,\n",
       " 9,\n",
       " 8,\n",
       " 7,\n",
       " 6,\n",
       " 5,\n",
       " 4,\n",
       " 3,\n",
       " 2,\n",
       " 1,\n",
       " 0]"
      ]
     },
     "execution_count": 16,
     "metadata": {},
     "output_type": "execute_result"
    }
   ],
   "source": [
    "s[::-1]"
   ]
  },
  {
   "cell_type": "code",
   "execution_count": 17,
   "id": "6e229093",
   "metadata": {},
   "outputs": [
    {
     "data": {
      "text/plain": [
       "[29, 27, 25, 23, 21, 19, 17, 15, 13, 11, 9, 7, 5, 3, 1]"
      ]
     },
     "execution_count": 17,
     "metadata": {},
     "output_type": "execute_result"
    }
   ],
   "source": [
    "s[::-2]"
   ]
  },
  {
   "cell_type": "code",
   "execution_count": 18,
   "id": "391e1b0f",
   "metadata": {},
   "outputs": [],
   "source": [
    "n = 5"
   ]
  },
  {
   "cell_type": "code",
   "execution_count": 19,
   "id": "1347bbbe",
   "metadata": {},
   "outputs": [
    {
     "data": {
      "text/plain": [
       "94040365304640"
      ]
     },
     "execution_count": 19,
     "metadata": {},
     "output_type": "execute_result"
    }
   ],
   "source": [
    "id(n)"
   ]
  },
  {
   "cell_type": "code",
   "execution_count": 20,
   "id": "4c5edb95",
   "metadata": {},
   "outputs": [],
   "source": [
    "n = 'ABC'"
   ]
  },
  {
   "cell_type": "code",
   "execution_count": 21,
   "id": "c6a8a3fb",
   "metadata": {},
   "outputs": [
    {
     "data": {
      "text/plain": [
       "140542705848424"
      ]
     },
     "execution_count": 21,
     "metadata": {},
     "output_type": "execute_result"
    }
   ],
   "source": [
    "id(n)"
   ]
  },
  {
   "cell_type": "markdown",
   "id": "369297d2",
   "metadata": {},
   "source": [
    "변수에 어떤값을 대입하면 값이 아니라 식별번호가 바뀐다."
   ]
  },
  {
   "cell_type": "code",
   "execution_count": 22,
   "id": "b0bab606",
   "metadata": {},
   "outputs": [],
   "source": [
    "n = 12"
   ]
  },
  {
   "cell_type": "code",
   "execution_count": 23,
   "id": "68ea57ec",
   "metadata": {},
   "outputs": [
    {
     "data": {
      "text/plain": [
       "94040365304864"
      ]
     },
     "execution_count": 23,
     "metadata": {},
     "output_type": "execute_result"
    }
   ],
   "source": [
    "id(n)"
   ]
  },
  {
   "cell_type": "code",
   "execution_count": 24,
   "id": "a1899f77",
   "metadata": {},
   "outputs": [],
   "source": [
    "n += 1"
   ]
  },
  {
   "cell_type": "code",
   "execution_count": 25,
   "id": "c865fde3",
   "metadata": {},
   "outputs": [
    {
     "data": {
      "text/plain": [
       "94040365304896"
      ]
     },
     "execution_count": 25,
     "metadata": {},
     "output_type": "execute_result"
    }
   ],
   "source": [
    "id(n)"
   ]
  },
  {
   "cell_type": "markdown",
   "id": "c9ae747f",
   "metadata": {},
   "source": [
    "n이 참조하는 곳을 업데이트했다."
   ]
  },
  {
   "cell_type": "code",
   "execution_count": 26,
   "id": "6ca7af43",
   "metadata": {},
   "outputs": [],
   "source": [
    "x = 0"
   ]
  },
  {
   "cell_type": "code",
   "execution_count": 27,
   "id": "e2eab27e",
   "metadata": {},
   "outputs": [
    {
     "data": {
      "text/plain": [
       "int"
      ]
     },
     "execution_count": 27,
     "metadata": {},
     "output_type": "execute_result"
    }
   ],
   "source": [
    "type(x+17)"
   ]
  },
  {
   "cell_type": "code",
   "execution_count": 28,
   "id": "6ea17afb",
   "metadata": {},
   "outputs": [
    {
     "ename": "TypeError",
     "evalue": "type() takes 1 or 3 arguments",
     "output_type": "error",
     "traceback": [
      "\u001b[0;31m---------------------------------------------------------------------------\u001b[0m",
      "\u001b[0;31mTypeError\u001b[0m                                 Traceback (most recent call last)",
      "\u001b[0;32m<ipython-input-28-7278350b9f47>\u001b[0m in \u001b[0;36m<module>\u001b[0;34m\u001b[0m\n\u001b[0;32m----> 1\u001b[0;31m \u001b[0mtype\u001b[0m\u001b[0;34m(\u001b[0m\u001b[0mx\u001b[0m\u001b[0;34m=\u001b[0m\u001b[0;36m17\u001b[0m\u001b[0;34m)\u001b[0m\u001b[0;34m\u001b[0m\u001b[0;34m\u001b[0m\u001b[0m\n\u001b[0m",
      "\u001b[0;31mTypeError\u001b[0m: type() takes 1 or 3 arguments"
     ]
    }
   ],
   "source": [
    "type(x=17)"
   ]
  },
  {
   "cell_type": "markdown",
   "id": "07f57bbf",
   "metadata": {},
   "source": [
    "x = 17은 문이다 <- =는 연산자가 아니다."
   ]
  },
  {
   "cell_type": "code",
   "execution_count": 30,
   "id": "889d364c",
   "metadata": {},
   "outputs": [],
   "source": [
    "a = b = 1"
   ]
  },
  {
   "cell_type": "code",
   "execution_count": 31,
   "id": "62ca9f46",
   "metadata": {},
   "outputs": [
    {
     "data": {
      "text/plain": [
       "1"
      ]
     },
     "execution_count": 31,
     "metadata": {},
     "output_type": "execute_result"
    }
   ],
   "source": [
    "a"
   ]
  },
  {
   "cell_type": "code",
   "execution_count": 32,
   "id": "f582fa06",
   "metadata": {},
   "outputs": [
    {
     "data": {
      "text/plain": [
       "1"
      ]
     },
     "execution_count": 32,
     "metadata": {},
     "output_type": "execute_result"
    }
   ],
   "source": [
    "b"
   ]
  },
  {
   "cell_type": "code",
   "execution_count": 33,
   "id": "560b0db9",
   "metadata": {},
   "outputs": [
    {
     "ename": "SyntaxError",
     "evalue": "invalid syntax (<ipython-input-33-617c7ee44f9d>, line 1)",
     "output_type": "error",
     "traceback": [
      "\u001b[0;36m  File \u001b[0;32m\"<ipython-input-33-617c7ee44f9d>\"\u001b[0;36m, line \u001b[0;32m1\u001b[0m\n\u001b[0;31m    a = (b = 1)\u001b[0m\n\u001b[0m           ^\u001b[0m\n\u001b[0;31mSyntaxError\u001b[0m\u001b[0;31m:\u001b[0m invalid syntax\n"
     ]
    }
   ],
   "source": [
    "a = (b = 1)"
   ]
  },
  {
   "cell_type": "markdown",
   "id": "a48d5aeb",
   "metadata": {},
   "source": [
    "## 자료구조"
   ]
  },
  {
   "cell_type": "markdown",
   "id": "7a5cb01e",
   "metadata": {},
   "source": [
    "자료구조: 데이터 단위와 데이터 자체 사이의 물리적 또는 논리적인 관계"
   ]
  },
  {
   "cell_type": "code",
   "execution_count": 34,
   "id": "9a31b57d",
   "metadata": {},
   "outputs": [],
   "source": [
    "x = [1, 2, 3, 4.4, [5,6], 'ABC']"
   ]
  },
  {
   "cell_type": "code",
   "execution_count": 35,
   "id": "04840f2e",
   "metadata": {},
   "outputs": [
    {
     "data": {
      "text/plain": [
       "6"
      ]
     },
     "execution_count": 35,
     "metadata": {},
     "output_type": "execute_result"
    }
   ],
   "source": [
    "len(x)"
   ]
  },
  {
   "cell_type": "code",
   "execution_count": 40,
   "id": "bed7b7bb",
   "metadata": {},
   "outputs": [
    {
     "name": "stdout",
     "output_type": "stream",
     "text": [
      "1\n"
     ]
    }
   ],
   "source": [
    "if x:\n",
    "    print(1)"
   ]
  },
  {
   "cell_type": "code",
   "execution_count": 41,
   "id": "211c3fa4",
   "metadata": {},
   "outputs": [
    {
     "data": {
      "text/plain": [
       "True"
      ]
     },
     "execution_count": 41,
     "metadata": {},
     "output_type": "execute_result"
    }
   ],
   "source": [
    "[1,2,3] == [1,2,3]"
   ]
  },
  {
   "cell_type": "code",
   "execution_count": 42,
   "id": "5dfed49e",
   "metadata": {},
   "outputs": [
    {
     "data": {
      "text/plain": [
       "True"
      ]
     },
     "execution_count": 42,
     "metadata": {},
     "output_type": "execute_result"
    }
   ],
   "source": [
    "[1,2,3] < [1,2,4]"
   ]
  },
  {
   "cell_type": "code",
   "execution_count": 43,
   "id": "98505645",
   "metadata": {},
   "outputs": [
    {
     "data": {
      "text/plain": [
       "True"
      ]
     },
     "execution_count": 43,
     "metadata": {},
     "output_type": "execute_result"
    }
   ],
   "source": [
    "[1,2,3,4] <= [1,2,3,4]"
   ]
  },
  {
   "cell_type": "code",
   "execution_count": 44,
   "id": "883eade1",
   "metadata": {},
   "outputs": [
    {
     "data": {
      "text/plain": [
       "True"
      ]
     },
     "execution_count": 44,
     "metadata": {},
     "output_type": "execute_result"
    }
   ],
   "source": [
    "[1,2,3] < [1,2,3,5]"
   ]
  },
  {
   "cell_type": "code",
   "execution_count": 45,
   "id": "0a5a9610",
   "metadata": {},
   "outputs": [
    {
     "data": {
      "text/plain": [
       "True"
      ]
     },
     "execution_count": 45,
     "metadata": {},
     "output_type": "execute_result"
    }
   ],
   "source": [
    "[1,2,3] < [1,2,3,5] < [1,2,3,5,6]"
   ]
  },
  {
   "cell_type": "code",
   "execution_count": 49,
   "id": "8d8a4251",
   "metadata": {},
   "outputs": [
    {
     "data": {
      "text/plain": [
       "False"
      ]
     },
     "execution_count": 49,
     "metadata": {},
     "output_type": "execute_result"
    }
   ],
   "source": [
    "[1,2,3] < [1,2,3,5] < [1,2,2]"
   ]
  },
  {
   "cell_type": "code",
   "execution_count": 48,
   "id": "043693e3",
   "metadata": {},
   "outputs": [
    {
     "data": {
      "text/plain": [
       "True"
      ]
     },
     "execution_count": 48,
     "metadata": {},
     "output_type": "execute_result"
    }
   ],
   "source": [
    "[1,2,3] < [1,3,1]"
   ]
  },
  {
   "cell_type": "code",
   "execution_count": 50,
   "id": "45fd199b",
   "metadata": {},
   "outputs": [
    {
     "ename": "TypeError",
     "evalue": "'<' not supported between instances of 'list' and 'int'",
     "output_type": "error",
     "traceback": [
      "\u001b[0;31m---------------------------------------------------------------------------\u001b[0m",
      "\u001b[0;31mTypeError\u001b[0m                                 Traceback (most recent call last)",
      "\u001b[0;32m<ipython-input-50-a92a013e33cf>\u001b[0m in \u001b[0;36m<module>\u001b[0;34m\u001b[0m\n\u001b[0;32m----> 1\u001b[0;31m \u001b[0mmin\u001b[0m\u001b[0;34m(\u001b[0m\u001b[0mx\u001b[0m\u001b[0;34m)\u001b[0m\u001b[0;34m\u001b[0m\u001b[0;34m\u001b[0m\u001b[0m\n\u001b[0m",
      "\u001b[0;31mTypeError\u001b[0m: '<' not supported between instances of 'list' and 'int'"
     ]
    }
   ],
   "source": [
    "min(x)"
   ]
  },
  {
   "cell_type": "markdown",
   "id": "e98d70c4",
   "metadata": {},
   "source": [
    "### 등가성, 동일성\n",
    "\n",
    "등가성 비교는 ==, 동일성 비교는 is를 사용한다."
   ]
  },
  {
   "cell_type": "markdown",
   "id": "a1e56c36",
   "metadata": {},
   "source": [
    "ex) 두 객체의 값이 같은지 비교하려면 ==, 두 객체의 값과 식별 번호가 같은지 비교하려면 is"
   ]
  },
  {
   "cell_type": "markdown",
   "id": "4304a1db",
   "metadata": {},
   "source": [
    "이터러블한가?\n",
    "참조: https://sikaleo.tistory.com/61"
   ]
  },
  {
   "cell_type": "markdown",
   "id": "8cdd416e",
   "metadata": {},
   "source": [
    "### 내포 표기 생성"
   ]
  },
  {
   "cell_type": "code",
   "execution_count": 51,
   "id": "e585a1fa",
   "metadata": {},
   "outputs": [
    {
     "data": {
      "text/plain": [
       "[2, 6, 10]"
      ]
     },
     "execution_count": 51,
     "metadata": {},
     "output_type": "execute_result"
    }
   ],
   "source": [
    "x = [1,2,3,4,5]\n",
    "x_2 = [num * 2 for num in x if num % 2 == 1]\n",
    "\n",
    "x_2"
   ]
  },
  {
   "cell_type": "markdown",
   "id": "32aea152",
   "metadata": {},
   "source": [
    "# 21-05-14"
   ]
  },
  {
   "cell_type": "markdown",
   "id": "2ba2f611",
   "metadata": {},
   "source": [
    "## 2-2 배열이란?"
   ]
  },
  {
   "cell_type": "markdown",
   "id": "3b855ccf",
   "metadata": {},
   "source": [
    "배열 원소의 최댓값 구하기"
   ]
  },
  {
   "cell_type": "code",
   "execution_count": 1,
   "id": "8e82cc74",
   "metadata": {},
   "outputs": [],
   "source": [
    "def max_of(a):\n",
    "    maximum = a[0]\n",
    "    for i in range(1, len(a)):\n",
    "        if a[i] > maximum:\n",
    "            maximum = a[i]"
   ]
  },
  {
   "cell_type": "markdown",
   "id": "21634bc7",
   "metadata": {},
   "source": [
    "이와 같이 배열 원소를 하나씩 차례로 주목하여 살펴보는 방식을 알고리즘 용어로 스캔이라 한다."
   ]
  },
  {
   "cell_type": "code",
   "execution_count": 2,
   "id": "c7f40628",
   "metadata": {
    "scrolled": true
   },
   "outputs": [
    {
     "name": "stdout",
     "output_type": "stream",
     "text": [
      "배열의 최댓값을 구합니다.\n",
      "원소 수를 입력하세요.: 5\n",
      "x[0]값을 입력하세요.: 1\n",
      "x[1]값을 입력하세요.: 2\n",
      "x[2]값을 입력하세요.: 3\n",
      "x[3]값을 입력하세요.: 4\n",
      "x[4]값을 입력하세요.: 5\n",
      "최댓값은 5입니다.\n"
     ]
    }
   ],
   "source": [
    "# 시퀀스 원소의 최댓값 출력하기\n",
    "\n",
    "from typing import Any, Sequence\n",
    "\n",
    "def max_of(a: Sequence) -> Any:\n",
    "    # 시퀀스형 a원소의 최댓값을 반환\n",
    "    maximum = a[0]\n",
    "    for i in range(1,len(a)):\n",
    "        if a[i] > maximum:\n",
    "            maximum = a[i]\n",
    "            \n",
    "    return maximum\n",
    "\n",
    "if __name__ == '__main__':\n",
    "    print('배열의 최댓값을 구합니다.')\n",
    "    num = int(input('원소 수를 입력하세요.: '))\n",
    "    x = [None] * num\n",
    "    \n",
    "    for i in range(num):\n",
    "        x[i] = int(input(f'x[{i}]값을 입력하세요.: '))\n",
    "        \n",
    "    print(f'최댓값은 {max_of(x)}입니다.')"
   ]
  },
  {
   "cell_type": "markdown",
   "id": "dac91e55",
   "metadata": {},
   "source": [
    "# 2021-05-15"
   ]
  },
  {
   "cell_type": "markdown",
   "id": "a7684a5a",
   "metadata": {},
   "source": [
    "from typing import Any, Sequence  \n",
    "Any 는 제약이 없는 임의의 자료형"
   ]
  },
  {
   "cell_type": "markdown",
   "id": "6bed9c2f",
   "metadata": {},
   "source": [
    "def max_of(a: Sequence) -> Any:  \n",
    "건네받는 매개변수 a의 자료형은 Sequence, 반환은 Any형태로 반환  "
   ]
  },
  {
   "cell_type": "markdown",
   "id": "2e839339",
   "metadata": {},
   "source": [
    "뮤터블 시퀀스? 는 무엇인가"
   ]
  },
  {
   "cell_type": "markdown",
   "id": "01518071",
   "metadata": {},
   "source": [
    "함수 어노테이션  \n",
    "참고자료: https://bluese05.tistory.com/78"
   ]
  },
  {
   "cell_type": "markdown",
   "id": "e1fa7659",
   "metadata": {},
   "source": [
    "if __name__ == __main__  \n",
    "다른 스크립트 프로그램에서 임포트한 경우에느 거짓이됨으로 실행되지 않음"
   ]
  },
  {
   "cell_type": "markdown",
   "id": "96292aaa",
   "metadata": {},
   "source": [
    "- 스크립트 프로그램이 직접 실행될때 변수 __name__ 은 ' __main__'이다\n",
    "- 스크립트 프로그램이 임포트될 때 변수 __name__은 원래 모듈의 이름이다."
   ]
  },
  {
   "cell_type": "code",
   "execution_count": 4,
   "id": "49091c1f",
   "metadata": {},
   "outputs": [
    {
     "name": "stdout",
     "output_type": "stream",
     "text": [
      "x[0]값은?1\n",
      "x[1]값은?2\n",
      "x[2]값은?3\n",
      "x[3]값은?4\n",
      "x[4]값은?5\n",
      "x[5]값은?6\n",
      "x[6]값은?End\n",
      "6개를 입력했습니다.\n",
      "최댓값은 6입니다.\n"
     ]
    }
   ],
   "source": [
    "from max import max_of\n",
    "\n",
    "number = 0\n",
    "x = []\n",
    "\n",
    "while True:\n",
    "    s = input(f'x[{number}]값은?')\n",
    "    if s == 'End':\n",
    "        break\n",
    "        \n",
    "    x.append(int(s))\n",
    "    number += 1\n",
    "    \n",
    "print(f'{number}개를 입력했습니다.')\n",
    "print(f'최댓값은 {max_of(x)}입니다.')"
   ]
  },
  {
   "cell_type": "code",
   "execution_count": 6,
   "id": "86a40382",
   "metadata": {},
   "outputs": [
    {
     "name": "stdout",
     "output_type": "stream",
     "text": [
      "난수의 개수: 5\n",
      "난수의 최솟값: 1\n",
      "난수의 최댓값: 100\n",
      "[65, 39, 23, 37, 58]\n"
     ]
    }
   ],
   "source": [
    "import random\n",
    "from max import max_of\n",
    "\n",
    "num = int(input('난수의 개수: '))\n",
    "lo = int(input('난수의 최솟값: '))\n",
    "hi = int(input('난수의 최댓값: ')) # 언어의 의미가 이상하다. 그냥 난수를 생성할 범위를 입력한다고 생각하자\n",
    "x = [None] * num\n",
    "\n",
    "for i in range(num):\n",
    "    x[i] = random.randint(lo, hi)\n",
    "    \n",
    "print(f'{(x)}')\n",
    "\n",
    "    \n"
   ]
  },
  {
   "cell_type": "code",
   "execution_count": 8,
   "id": "032c2556",
   "metadata": {},
   "outputs": [
    {
     "name": "stdout",
     "output_type": "stream",
     "text": [
      "7\n",
      "t\n",
      "DTS\n"
     ]
    }
   ],
   "source": [
    "from max import max_of\n",
    "\n",
    "t = (4, 7, 5.6, 2, 3.14, 1)\n",
    "s = 'string'\n",
    "a = ['DTS', 'AAA', 'BTS']\n",
    "\n",
    "print(max_of(t))\n",
    "print(max_of(s))\n",
    "print(max_of(a))"
   ]
  },
  {
   "cell_type": "code",
   "execution_count": 9,
   "id": "e1fe4085",
   "metadata": {},
   "outputs": [
    {
     "name": "stdout",
     "output_type": "stream",
     "text": [
      "False\n"
     ]
    }
   ],
   "source": [
    "list_1 = [1,2,3,4,5]\n",
    "list_2 = [1,2,3,4,5]\n",
    "\n",
    "print(list_1 is list_2)"
   ]
  },
  {
   "cell_type": "code",
   "execution_count": 10,
   "id": "e76cbed2",
   "metadata": {},
   "outputs": [
    {
     "data": {
      "text/plain": [
       "140350731042952"
      ]
     },
     "execution_count": 10,
     "metadata": {},
     "output_type": "execute_result"
    }
   ],
   "source": [
    "id(list_1)"
   ]
  },
  {
   "cell_type": "code",
   "execution_count": 11,
   "id": "f6cd7d8d",
   "metadata": {},
   "outputs": [
    {
     "data": {
      "text/plain": [
       "140350731120584"
      ]
     },
     "execution_count": 11,
     "metadata": {},
     "output_type": "execute_result"
    }
   ],
   "source": [
    "id(list_2)"
   ]
  },
  {
   "cell_type": "code",
   "execution_count": 12,
   "id": "6910e2d9",
   "metadata": {},
   "outputs": [
    {
     "data": {
      "text/plain": [
       "True"
      ]
     },
     "execution_count": 12,
     "metadata": {},
     "output_type": "execute_result"
    }
   ],
   "source": [
    "list_1 == list_2"
   ]
  },
  {
   "cell_type": "code",
   "execution_count": 13,
   "id": "851677c5",
   "metadata": {},
   "outputs": [],
   "source": [
    "list_2 = list_1"
   ]
  },
  {
   "cell_type": "code",
   "execution_count": 14,
   "id": "cf7ad019",
   "metadata": {},
   "outputs": [
    {
     "data": {
      "text/plain": [
       "True"
      ]
     },
     "execution_count": 14,
     "metadata": {},
     "output_type": "execute_result"
    }
   ],
   "source": [
    "list_2 is list_1"
   ]
  },
  {
   "cell_type": "code",
   "execution_count": 16,
   "id": "a898cf10",
   "metadata": {},
   "outputs": [],
   "source": [
    "list_1[1]= 6"
   ]
  },
  {
   "cell_type": "code",
   "execution_count": 17,
   "id": "3eaf00e3",
   "metadata": {},
   "outputs": [
    {
     "data": {
      "text/plain": [
       "[1, 6, 3, 4, 5]"
      ]
     },
     "execution_count": 17,
     "metadata": {},
     "output_type": "execute_result"
    }
   ],
   "source": [
    "list_1"
   ]
  },
  {
   "cell_type": "code",
   "execution_count": 18,
   "id": "6fe5063b",
   "metadata": {},
   "outputs": [
    {
     "data": {
      "text/plain": [
       "[1, 6, 3, 4, 5]"
      ]
     },
     "execution_count": 18,
     "metadata": {},
     "output_type": "execute_result"
    }
   ],
   "source": [
    "list_2"
   ]
  },
  {
   "cell_type": "markdown",
   "id": "f4ca5c6e",
   "metadata": {},
   "source": [
    "# 2021-05-16"
   ]
  },
  {
   "cell_type": "markdown",
   "id": "bd6f6207",
   "metadata": {},
   "source": [
    "리스트 스캔하기"
   ]
  },
  {
   "cell_type": "code",
   "execution_count": 1,
   "id": "bb8ba6df",
   "metadata": {},
   "outputs": [],
   "source": [
    "x = ['John', 'George', 'Paul', 'Ringo']"
   ]
  },
  {
   "cell_type": "code",
   "execution_count": 2,
   "id": "bfb5e80e",
   "metadata": {},
   "outputs": [
    {
     "name": "stdout",
     "output_type": "stream",
     "text": [
      "x[0] = John\n",
      "x[1] = George\n",
      "x[2] = Paul\n",
      "x[3] = Ringo\n"
     ]
    }
   ],
   "source": [
    "for i in range(len(x)):\n",
    "    print(f'x[{i}] = {x[i]}')"
   ]
  },
  {
   "cell_type": "code",
   "execution_count": 3,
   "id": "c2e800ab",
   "metadata": {},
   "outputs": [
    {
     "name": "stdout",
     "output_type": "stream",
     "text": [
      "x[0] = John\n",
      "x[1] = George\n",
      "x[2] = Paul\n",
      "x[3] = Ringo\n"
     ]
    }
   ],
   "source": [
    "for i, name in enumerate(x):\n",
    "    print(f'x[{i}] = {name}')"
   ]
  },
  {
   "cell_type": "code",
   "execution_count": 5,
   "id": "d083a50e",
   "metadata": {},
   "outputs": [
    {
     "name": "stdout",
     "output_type": "stream",
     "text": [
      "1번째 = John\n",
      "2번째 = George\n",
      "3번째 = Paul\n",
      "4번째 = Ringo\n"
     ]
    }
   ],
   "source": [
    "for i, name in enumerate(x,1):\n",
    "    print(f'{i}번째 = {name}')"
   ]
  },
  {
   "cell_type": "code",
   "execution_count": 6,
   "id": "0fc58fd3",
   "metadata": {},
   "outputs": [
    {
     "name": "stdout",
     "output_type": "stream",
     "text": [
      "John\n",
      "George\n",
      "Paul\n",
      "Ringo\n"
     ]
    }
   ],
   "source": [
    "for i in x:\n",
    "    print(i)"
   ]
  },
  {
   "cell_type": "code",
   "execution_count": 7,
   "id": "16fd1de4",
   "metadata": {},
   "outputs": [
    {
     "name": "stdout",
     "output_type": "stream",
     "text": [
      "x[0] = John\n",
      "x[1] = George\n",
      "x[2] = Paul\n",
      "x[3] = Ringo\n"
     ]
    }
   ],
   "source": [
    "for i, name in enumerate(x):\n",
    "    print(f'x[{i}] = {name}')"
   ]
  },
  {
   "cell_type": "code",
   "execution_count": 9,
   "id": "61fd9c43",
   "metadata": {},
   "outputs": [
    {
     "name": "stdout",
     "output_type": "stream",
     "text": [
      "x[1] = John\n",
      "x[2] = George\n",
      "x[3] = Paul\n",
      "x[4] = Ringo\n"
     ]
    }
   ],
   "source": [
    "for i, name in enumerate(x, 1):\n",
    "    print(f'x[{i}] = {name}')"
   ]
  },
  {
   "cell_type": "markdown",
   "id": "9caf920d",
   "metadata": {},
   "source": [
    "참고자료: https://docs.python.org/ko/3/library/functions.html#enumerate"
   ]
  },
  {
   "cell_type": "markdown",
   "id": "d06813a1",
   "metadata": {},
   "source": [
    "# 2021-05-17"
   ]
  },
  {
   "cell_type": "code",
   "execution_count": 2,
   "id": "1e6e45bc",
   "metadata": {},
   "outputs": [
    {
     "data": {
      "text/plain": [
       "['Ringo', 'Paul', 'George', 'John']"
      ]
     },
     "execution_count": 2,
     "metadata": {},
     "output_type": "execute_result"
    }
   ],
   "source": [
    "x[::-1]"
   ]
  },
  {
   "cell_type": "markdown",
   "id": "e2bc941f",
   "metadata": {},
   "source": [
    "배열 원소를 역순으로 정렬하기"
   ]
  },
  {
   "cell_type": "markdown",
   "id": "2927e009",
   "metadata": {},
   "source": [
    "pseudo code"
   ]
  },
  {
   "cell_type": "markdown",
   "id": "5dd208d8",
   "metadata": {},
   "source": [
    "for i in range(n//2):\n",
    "    a[i]와 a[n-i-1]의 값을 교환"
   ]
  },
  {
   "cell_type": "code",
   "execution_count": 5,
   "id": "46ef6822",
   "metadata": {},
   "outputs": [
    {
     "name": "stdout",
     "output_type": "stream",
     "text": [
      "배열을 역순으로 정렬합니다.\n",
      "원소의 갯수는: 6\n",
      "원소를 입력하시오(순서대로): 1\n",
      "원소를 입력하시오(순서대로): 2\n",
      "원소를 입력하시오(순서대로): 3\n",
      "원소를 입력하시오(순서대로): 4\n",
      "원소를 입력하시오(순서대로): 5\n",
      "원소를 입력하시오(순서대로): 6\n",
      "[6, 5, 4, 3, 2, 1]\n"
     ]
    }
   ],
   "source": [
    "from typing import Any, MutableSequence\n",
    "\n",
    "def reverse_array(a: MutableSequence) -> None:\n",
    "    \n",
    "    n = len(a)\n",
    "    for i in range(n // 2):\n",
    "        a[i], a[n-i-1] = a[n-i-1], a[i]\n",
    "\n",
    "if __name__ =='__main__':\n",
    "    print('배열을 역순으로 정렬합니다.')\n",
    "    nx = int(input('원소의 갯수는: '))\n",
    "    temp = [None]*nx\n",
    "    for i in range(nx):\n",
    "        temp[i] = int(input('원소를 입력하시오(순서대로): '))\n",
    "    \n",
    "    reverse_array(temp)\n",
    "        \n",
    "    print(temp)\n",
    "        "
   ]
  },
  {
   "cell_type": "code",
   "execution_count": 6,
   "id": "a1d0db3e",
   "metadata": {},
   "outputs": [],
   "source": [
    "x = [1,2,3,4,5]"
   ]
  },
  {
   "cell_type": "code",
   "execution_count": 8,
   "id": "1ffec4cc",
   "metadata": {},
   "outputs": [
    {
     "data": {
      "text/plain": [
       "[5, 4, 3, 2, 1]"
      ]
     },
     "execution_count": 8,
     "metadata": {},
     "output_type": "execute_result"
    }
   ],
   "source": [
    "x.reverse()\n",
    "x"
   ]
  },
  {
   "cell_type": "code",
   "execution_count": 9,
   "id": "a1246534",
   "metadata": {},
   "outputs": [],
   "source": [
    "y = x.reverse()\n",
    "y"
   ]
  },
  {
   "cell_type": "code",
   "execution_count": 11,
   "id": "ffd67a4f",
   "metadata": {},
   "outputs": [
    {
     "data": {
      "text/plain": [
       "<list_reverseiterator at 0x7fe4e8df6240>"
      ]
     },
     "execution_count": 11,
     "metadata": {},
     "output_type": "execute_result"
    }
   ],
   "source": [
    "y = reversed(x)\n",
    "y"
   ]
  },
  {
   "cell_type": "code",
   "execution_count": 12,
   "id": "5c1f7ba8",
   "metadata": {},
   "outputs": [
    {
     "data": {
      "text/plain": [
       "[1, 2, 3, 4, 5]"
      ]
     },
     "execution_count": 12,
     "metadata": {},
     "output_type": "execute_result"
    }
   ],
   "source": [
    "y = list(reversed(x))\n",
    "y"
   ]
  },
  {
   "cell_type": "markdown",
   "id": "4a0a55aa",
   "metadata": {},
   "source": [
    "기수 변환하기(n진수 구하기)"
   ]
  },
  {
   "cell_type": "markdown",
   "id": "698a6913",
   "metadata": {},
   "source": [
    "# 2021-05-18"
   ]
  },
  {
   "cell_type": "code",
   "execution_count": 8,
   "id": "f62c786f",
   "metadata": {},
   "outputs": [],
   "source": [
    "def card_cov(x: int, r: int) -> str:\n",
    "    \n",
    "    \n",
    "    \n",
    "    d = ''\n",
    "    dchar = '0123456789ABCDEFGHIJKLMNOPQRSTUVWXYZ'\n",
    "    \n",
    "    while x > 0:\n",
    "        d += dchar[x % r]\n",
    "        x //= r\n",
    "        \n",
    "    \n",
    "    return d[::-1]\n"
   ]
  },
  {
   "cell_type": "markdown",
   "id": "875b69aa",
   "metadata": {},
   "source": [
    "# 2021-05-19"
   ]
  },
  {
   "cell_type": "code",
   "execution_count": 9,
   "id": "4e9e4251",
   "metadata": {},
   "outputs": [
    {
     "name": "stdout",
     "output_type": "stream",
     "text": [
      "10진수를 n진수로 변환합니다\n",
      "음이 아닌 정수를 입력하세요: 32\n",
      "어떤 진수로 변환할까요? 2\n",
      "32는 2진수로 100000입니다.\n"
     ]
    }
   ],
   "source": [
    "if __name__ == '__main__':\n",
    "    print('10진수를 n진수로 변환합니다')\n",
    "    \n",
    "    while True:\n",
    "        while True:\n",
    "            no = int(input('음이 아닌 정수를 입력하세요: '))\n",
    "            if no > 0:\n",
    "                break\n",
    "                \n",
    "        while True:\n",
    "            cd = int(input('어떤 진수로 변환할까요? '))\n",
    "            if 2<= cd <= 36:\n",
    "                break\n",
    "            \n",
    "        print(f'{no}는 {cd}진수로 {card_cov(no, cd)}입니다.')\n",
    "        break\n",
    "        "
   ]
  },
  {
   "cell_type": "markdown",
   "id": "6f87e78b",
   "metadata": {},
   "source": [
    "# 2021-05-24"
   ]
  },
  {
   "cell_type": "code",
   "execution_count": 1,
   "id": "6fc72d66",
   "metadata": {
    "scrolled": true
   },
   "outputs": [
    {
     "name": "stdout",
     "output_type": "stream",
     "text": [
      "x: 10\n",
      "1부터 10까지의 합은 55입니다.\n"
     ]
    }
   ],
   "source": [
    "def sum(n):\n",
    "    \n",
    "    s = 0\n",
    "    while n > 0:\n",
    "        s += n\n",
    "        n -= 1\n",
    "    \n",
    "    return s\n",
    "\n",
    "x = int(input('x: '))\n",
    "print(f'1부터 {x}까지의 합은 {sum(x)}입니다.')\n",
    "        "
   ]
  },
  {
   "cell_type": "markdown",
   "id": "21783a95",
   "metadata": {},
   "source": [
    "# 2021-05-25"
   ]
  },
  {
   "cell_type": "markdown",
   "id": "54eab907",
   "metadata": {},
   "source": [
    "파이썬에서는 객체 참조에 의한 호출을 사용한다.\n",
    "함수의 실행 시작 시점에서 매개변수는 실제 인수와 같은 객체를 참조한다.\n",
    "\n",
    "### 인수가 이뮤터블일때\n",
    "함수 안에서 매개변수의 값을 변경하면 다른 객체를 생성하고 그 객체에 대한 참조로 업데이트된다.  "
   ]
  },
  {
   "cell_type": "code",
   "execution_count": 1,
   "id": "e6d6e81f",
   "metadata": {},
   "outputs": [
    {
     "name": "stdout",
     "output_type": "stream",
     "text": [
      "x: 10\n",
      "1부터 10까지의 합은 55입니다.\n"
     ]
    }
   ],
   "source": [
    "def sum(n):\n",
    "    \n",
    "    s = 0\n",
    "    while n > 0:\n",
    "        s += n\n",
    "        n -= 1\n",
    "    \n",
    "    return s\n",
    "\n",
    "x = int(input('x: '))\n",
    "print(f'1부터 {x}까지의 합은 {sum(x)}입니다.')"
   ]
  },
  {
   "cell_type": "markdown",
   "id": "7bee8dfc",
   "metadata": {},
   "source": [
    "### 인수가 뮤터블일 때\n",
    "함수 안에서 매개변수의 값을 변경하면 객체 자체를 업데이트한다. (list등등)"
   ]
  },
  {
   "cell_type": "code",
   "execution_count": 3,
   "id": "b30e307e",
   "metadata": {},
   "outputs": [
    {
     "name": "stdout",
     "output_type": "stream",
     "text": [
      "x= [11, 22, 33, 44, 55]\n",
      "업데이트할 인덱스를 선택하세요.: 2\n",
      "새로운 값을 입력하세요.: 3\n",
      "x = [11, 22, 3, 44, 55]\n"
     ]
    }
   ],
   "source": [
    "def change(lst, idx, val):\n",
    "    lst[idx] =val\n",
    "    \n",
    "x = [11,22,33,44,55]\n",
    "print('x=',x)\n",
    "\n",
    "index = int(input('업데이트할 인덱스를 선택하세요.: '))\n",
    "value = int(input('새로운 값을 입력하세요.: '))\n",
    "\n",
    "change(x, index, value)\n",
    "print(f'x = {x}')"
   ]
  },
  {
   "cell_type": "markdown",
   "id": "d1e21590",
   "metadata": {},
   "source": [
    "### 소수 나열하기"
   ]
  },
  {
   "cell_type": "code",
   "execution_count": 7,
   "id": "6b2e3978",
   "metadata": {},
   "outputs": [
    {
     "name": "stdout",
     "output_type": "stream",
     "text": [
      "[2, 3, 5, 7, 11, 13, 17, 19, 23, 29, 31, 37, 41, 43, 47, 53, 59, 61, 67, 71, 73, 79, 83, 89, 97, 101, 103, 107, 109, 113, 127, 131, 137, 139, 149, 151, 157, 163, 167, 173, 179, 181, 191, 193, 197, 199, 211, 223, 227, 229, 233, 239, 241, 251, 257, 263, 269, 271, 277, 281, 283, 293, 307, 311, 313, 317, 331, 337, 347, 349, 353, 359, 367, 373, 379, 383, 389, 397, 401, 409, 419, 421, 431, 433, 439, 443, 449, 457, 461, 463, 467, 479, 487, 491, 499, 503, 509, 521, 523, 541, 547, 557, 563, 569, 571, 577, 587, 593, 599, 601, 607, 613, 617, 619, 631, 641, 643, 647, 653, 659, 661, 673, 677, 683, 691, 701, 709, 719, 727, 733, 739, 743, 751, 757, 761, 769, 773, 787, 797, 809, 811, 821, 823, 827, 829, 839, 853, 857, 859, 863, 877, 881, 883, 887, 907, 911, 919, 929, 937, 941, 947, 953, 967, 971, 977, 983, 991, 997]\n",
      "나눗셈을 실행한 횟수: 78022\n"
     ]
    }
   ],
   "source": [
    "temp = 0\n",
    "lst = []\n",
    "\n",
    "for n in range(2, 1001):\n",
    "    for i in range(2, n):\n",
    "        temp += 1\n",
    "        if n % i ==0:\n",
    "            break\n",
    "            \n",
    "    else:\n",
    "        lst.append(n)\n",
    "        \n",
    "print(lst)\n",
    "print(f'나눗셈을 실행한 횟수: {temp}')"
   ]
  },
  {
   "cell_type": "code",
   "execution_count": 10,
   "id": "ae175434",
   "metadata": {},
   "outputs": [
    {
     "name": "stdout",
     "output_type": "stream",
     "text": [
      "[3, 5, 7, 9, 11, 13, 17, 19, 23, 29, 31, 37, 41, 43, 47, 53, 59, 61, 67, 71, 73, 79, 83, 89, 97, 101, 103, 107, 109, 113, 127, 131, 137, 139, 149, 151, 157, 163, 167, 173, 179, 181, 191, 193, 197, 199, 211, 223, 227, 229, 233, 239, 241, 251, 257, 263, 269, 271, 277, 281, 283, 293, 307, 311, 313, 317, 331, 337, 347, 349, 353, 359, 367, 373, 379, 383, 389, 397, 401, 409, 419, 421, 431, 433, 439, 443, 449, 457, 461, 463, 467, 479, 487, 491, 499, 503, 509, 521, 523, 541, 547, 557, 563, 569, 571, 577, 587, 593, 599, 601, 607, 613, 617, 619, 631, 641, 643, 647, 653, 659, 661, 673, 677, 683, 691, 701, 709, 719, 727, 733, 739, 743, 751, 757, 761, 769, 773, 787, 797, 809, 811, 821, 823, 827, 829, 839, 853, 857, 859, 863, 877, 881, 883, 887, 907, 911, 919, 929, 937, 941, 947, 953, 967, 971, 977, 983, 991, 997, 0, 0, 0, 0, 0, 0, 0, 0, 0, 0, 0, 0, 0, 0, 0, 0, 0, 0, 0, 0, 0, 0, 0, 0, 0, 0, 0, 0, 0, 0, 0, 0, 0, 0, 0, 0, 0, 0, 0, 0, 0, 0, 0, 0, 0, 0, 0, 0, 0, 0, 0, 0, 0, 0, 0, 0, 0, 0, 0, 0, 0, 0, 0, 0, 0, 0, 0, 0, 0, 0, 0, 0, 0, 0, 0, 0, 0, 0, 0, 0, 0, 0, 0, 0, 0, 0, 0, 0, 0, 0, 0, 0, 0, 0, 0, 0, 0, 0, 0, 0, 0, 0, 0, 0, 0, 0, 0, 0, 0, 0, 0, 0, 0, 0, 0, 0, 0, 0, 0, 0, 0, 0, 0, 0, 0, 0, 0, 0, 0, 0, 0, 0, 0, 0, 0, 0, 0, 0, 0, 0, 0, 0, 0, 0, 0, 0, 0, 0, 0, 0, 0, 0, 0, 0, 0, 0, 0, 0, 0, 0, 0, 0, 0, 0, 0, 0, 0, 0, 0, 0, 0, 0, 0, 0, 0, 0, 0, 0, 0, 0, 0, 0, 0, 0, 0, 0, 0, 0, 0, 0, 0, 0, 0, 0, 0, 0, 0, 0, 0, 0, 0, 0, 0, 0, 0, 0, 0, 0, 0, 0, 0, 0, 0, 0, 0, 0, 0, 0, 0, 0, 0, 0, 0, 0, 0, 0, 0, 0, 0, 0, 0, 0, 0, 0, 0, 0, 0, 0, 0, 0, 0, 0, 0, 0, 0, 0, 0, 0, 0, 0, 0, 0, 0, 0, 0, 0, 0, 0, 0, 0, 0, 0, 0, 0, 0, 0, 0, 0, 0, 0, 0, 0, 0, 0, 0, 0, 0, 0, 0, 0, 0, 0, 0, 0, 0, 0, 0, 0, 0, 0, 0, 0, 0, 0, 0, 0, 0, 0, 0, 0, 0, 0, 0, 0, 0, 0, 0, 0, 0, 0, 0, 0, 0, 0, 0, 0, 0, 0, 0, 0, 0, 0, 0, 0, 0, 0, 0, 0, 0, 0, 0, 0]\n",
      "나눗셈을 실행한 횟수: 16800\n"
     ]
    }
   ],
   "source": [
    "#알고리즘개선하기\n",
    "temp = 0\n",
    "cnt  = 0\n",
    "prime = [0]*500\n",
    "\n",
    "prime[cnt] = 2\n",
    "temp += 1\n",
    "\n",
    "for n in range(3, 1001, 2):\n",
    "    for i in range(1, cnt):\n",
    "        temp += 1\n",
    "        if n % prime[i] == 0:\n",
    "            break\n",
    "    \n",
    "    else:\n",
    "        prime[cnt] = n\n",
    "        cnt += 1\n",
    "\n",
    "print(prime)\n",
    "print(f'나눗셈을 실행한 횟수: {temp}')\n",
    "# 내일 다시하기"
   ]
  },
  {
   "cell_type": "code",
   "execution_count": null,
   "id": "3dc68e93",
   "metadata": {},
   "outputs": [],
   "source": []
  }
 ],
 "metadata": {
  "kernelspec": {
   "display_name": "algorithm",
   "language": "python",
   "name": "algorithm"
  },
  "language_info": {
   "codemirror_mode": {
    "name": "ipython",
    "version": 3
   },
   "file_extension": ".py",
   "mimetype": "text/x-python",
   "name": "python",
   "nbconvert_exporter": "python",
   "pygments_lexer": "ipython3",
   "version": "3.6.13"
  }
 },
 "nbformat": 4,
 "nbformat_minor": 5
}
